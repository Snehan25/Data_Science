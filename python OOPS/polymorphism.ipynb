{
 "cells": [
  {
   "cell_type": "code",
   "execution_count": 2,
   "id": "cf431f61",
   "metadata": {},
   "outputs": [],
   "source": [
    "def test(a,b) :\n",
    "    return a+b"
   ]
  },
  {
   "cell_type": "code",
   "execution_count": 3,
   "id": "0c57969a",
   "metadata": {},
   "outputs": [
    {
     "data": {
      "text/plain": [
       "9"
      ]
     },
     "execution_count": 3,
     "metadata": {},
     "output_type": "execute_result"
    }
   ],
   "source": [
    "test(4,5)"
   ]
  },
  {
   "cell_type": "code",
   "execution_count": 5,
   "id": "617ac000",
   "metadata": {},
   "outputs": [
    {
     "data": {
      "text/plain": [
       "'snehan sahoo'"
      ]
     },
     "execution_count": 5,
     "metadata": {},
     "output_type": "execute_result"
    }
   ],
   "source": [
    "test(\"snehan\", \" sahoo\")"
   ]
  },
  {
   "cell_type": "markdown",
   "id": "3b2cfbdc",
   "metadata": {},
   "source": [
    "the same function is sometimes performing addition operation and sometimes concatenation operation\n",
    "\n",
    "hence this function is an example of polymorphism-->having multiple characteristics/states as per the data which is passed inside the function"
   ]
  },
  {
   "cell_type": "code",
   "execution_count": 6,
   "id": "2978185d",
   "metadata": {},
   "outputs": [
    {
     "data": {
      "text/plain": [
       "[1, 2, 3, 4, 5, 6, 7, 8, 9]"
      ]
     },
     "execution_count": 6,
     "metadata": {},
     "output_type": "execute_result"
    }
   ],
   "source": [
    "test([1,2,3,4,5], [6,7,8,9])"
   ]
  },
  {
   "cell_type": "code",
   "execution_count": 7,
   "id": "75e65d3b",
   "metadata": {},
   "outputs": [],
   "source": [
    "class data_science:\n",
    "    def syllabus(self):\n",
    "        print(\"this is the method for data science syllabus\") "
   ]
  },
  {
   "cell_type": "code",
   "execution_count": 8,
   "id": "169ccda6",
   "metadata": {},
   "outputs": [],
   "source": [
    "class web_dev:\n",
    "    def syllabus(self):\n",
    "        print(\"this is the method for web dev\") "
   ]
  },
  {
   "cell_type": "code",
   "execution_count": 9,
   "id": "67ac3b4b",
   "metadata": {},
   "outputs": [],
   "source": [
    "def class_parcer(class_obj):\n",
    "    for i in class_obj:\n",
    "        i.syllabus()"
   ]
  },
  {
   "cell_type": "code",
   "execution_count": 10,
   "id": "2d818cce",
   "metadata": {},
   "outputs": [],
   "source": [
    "obj_data_science = data_science()"
   ]
  },
  {
   "cell_type": "code",
   "execution_count": 12,
   "id": "e9107fcb",
   "metadata": {},
   "outputs": [],
   "source": [
    "obj_web_dev = web_dev()"
   ]
  },
  {
   "cell_type": "code",
   "execution_count": 13,
   "id": "2cad888c",
   "metadata": {},
   "outputs": [],
   "source": [
    "class_obj = [obj_data_science,obj_web_dev]"
   ]
  },
  {
   "cell_type": "code",
   "execution_count": 14,
   "id": "fa6ac9a3",
   "metadata": {},
   "outputs": [
    {
     "name": "stdout",
     "output_type": "stream",
     "text": [
      "this is the method for data science syllabus\n",
      "this is the method for web dev\n"
     ]
    }
   ],
   "source": [
    "class_parcer(class_obj)"
   ]
  },
  {
   "cell_type": "markdown",
   "id": "7da38540",
   "metadata": {},
   "source": [
    "when we are trying to create an object of data science class(obj_data_science = data_science()) it will be able to access the syllabus method under data science class\n",
    "\n",
    "when we are trying to create an object of web dev class(obj_web_dev = web_dev()) it will be able to access the syllabus method under web dev class\n",
    "\n",
    "we are keeping both of it under a single wrapper/ inside a single list\n",
    "\n",
    "then we try to pass this list inside our function \n",
    "\n",
    "and as it is under a for loop it will first access data science class then web dev class\n",
    "\n",
    "\n",
    "the function def class_parcer is behaving differently in diff circumstances\n",
    "we are achieving polymorphism here.\n"
   ]
  },
  {
   "cell_type": "code",
   "execution_count": null,
   "id": "9aebfcdb",
   "metadata": {},
   "outputs": [],
   "source": []
  }
 ],
 "metadata": {
  "kernelspec": {
   "display_name": "Python 3 (ipykernel)",
   "language": "python",
   "name": "python3"
  },
  "language_info": {
   "codemirror_mode": {
    "name": "ipython",
    "version": 3
   },
   "file_extension": ".py",
   "mimetype": "text/x-python",
   "name": "python",
   "nbconvert_exporter": "python",
   "pygments_lexer": "ipython3",
   "version": "3.10.9"
  }
 },
 "nbformat": 4,
 "nbformat_minor": 5
}
