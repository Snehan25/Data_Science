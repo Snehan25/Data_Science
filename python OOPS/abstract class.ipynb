{
 "cells": [
  {
   "cell_type": "code",
   "execution_count": 1,
   "id": "06ba9e72",
   "metadata": {},
   "outputs": [],
   "source": [
    "import abc\n",
    "\n",
    "class school :\n",
    "    \n",
    "    @abc.abstractmethod\n",
    "    def student_details(self):\n",
    "        pass\n",
    "    \n",
    "    @abc.abstractmethod\n",
    "    def student_assignment(self):\n",
    "        pass\n",
    "    \n",
    "    @abc.abstractmethod\n",
    "    def student_marks(self):\n",
    "        pass"
   ]
  },
  {
   "cell_type": "markdown",
   "id": "75af0e0a",
   "metadata": {},
   "source": [
    "abstract class is a blueprint/skeleton/outline we create \n",
    "\n",
    "structure for a particular class\n"
   ]
  },
  {
   "cell_type": "code",
   "execution_count": 3,
   "id": "9b8748e1",
   "metadata": {},
   "outputs": [],
   "source": [
    "class data_science(school):\n",
    "    \n",
    "    def student_details(self):\n",
    "        return \"it will return details of data science\"\n",
    "    \n",
    "    def student_assignment(self):\n",
    "        return \"it will return marks of data science\""
   ]
  },
  {
   "cell_type": "code",
   "execution_count": 4,
   "id": "4dfd3312",
   "metadata": {},
   "outputs": [],
   "source": [
    "class web_dev(school):\n",
    "    \n",
    "    def student_details(self):\n",
    "        return \"it will return details of web dev\"\n",
    "    \n",
    "    def student_assignment(self):\n",
    "        return \"it will return marks of web dev\""
   ]
  },
  {
   "cell_type": "code",
   "execution_count": 5,
   "id": "85748a54",
   "metadata": {},
   "outputs": [
    {
     "data": {
      "text/plain": [
       "'it will return details of data science'"
      ]
     },
     "execution_count": 5,
     "metadata": {},
     "output_type": "execute_result"
    }
   ],
   "source": [
    "ds = data_science()\n",
    "ds.student_details()"
   ]
  },
  {
   "cell_type": "code",
   "execution_count": 7,
   "id": "8568edd3",
   "metadata": {},
   "outputs": [
    {
     "data": {
      "text/plain": [
       "'it will return details of web dev'"
      ]
     },
     "execution_count": 7,
     "metadata": {},
     "output_type": "execute_result"
    }
   ],
   "source": [
    "wb = web_dev()\n",
    "wb.student_details()"
   ]
  },
  {
   "cell_type": "code",
   "execution_count": null,
   "id": "6aec9399",
   "metadata": {},
   "outputs": [],
   "source": []
  }
 ],
 "metadata": {
  "kernelspec": {
   "display_name": "Python 3 (ipykernel)",
   "language": "python",
   "name": "python3"
  },
  "language_info": {
   "codemirror_mode": {
    "name": "ipython",
    "version": 3
   },
   "file_extension": ".py",
   "mimetype": "text/x-python",
   "name": "python",
   "nbconvert_exporter": "python",
   "pygments_lexer": "ipython3",
   "version": "3.10.9"
  }
 },
 "nbformat": 4,
 "nbformat_minor": 5
}
