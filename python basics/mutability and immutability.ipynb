{
 "cells": [
  {
   "cell_type": "code",
   "execution_count": 2,
   "id": "cbf8e3c1",
   "metadata": {},
   "outputs": [],
   "source": [
    "s= \"snehan\""
   ]
  },
  {
   "cell_type": "code",
   "execution_count": 3,
   "id": "f4bf58ee",
   "metadata": {},
   "outputs": [
    {
     "data": {
      "text/plain": [
       "'n'"
      ]
     },
     "execution_count": 3,
     "metadata": {},
     "output_type": "execute_result"
    }
   ],
   "source": [
    "s[1]"
   ]
  },
  {
   "cell_type": "code",
   "execution_count": 4,
   "id": "3aa8561a",
   "metadata": {},
   "outputs": [
    {
     "data": {
      "text/plain": [
       "'n'"
      ]
     },
     "execution_count": 4,
     "metadata": {},
     "output_type": "execute_result"
    }
   ],
   "source": [
    "s[-5]"
   ]
  },
  {
   "cell_type": "code",
   "execution_count": 10,
   "id": "2d458a1e",
   "metadata": {},
   "outputs": [],
   "source": [
    "#list\n",
    "l = [2,3,4,5,6,6,\"sudh\",'poopoolala',True, 4+7j]"
   ]
  },
  {
   "cell_type": "code",
   "execution_count": 6,
   "id": "f71de058",
   "metadata": {},
   "outputs": [
    {
     "data": {
      "text/plain": [
       "list"
      ]
     },
     "execution_count": 6,
     "metadata": {},
     "output_type": "execute_result"
    }
   ],
   "source": [
    "type(l)"
   ]
  },
  {
   "cell_type": "code",
   "execution_count": 11,
   "id": "2787e44f",
   "metadata": {},
   "outputs": [
    {
     "data": {
      "text/plain": [
       "'poopoolala'"
      ]
     },
     "execution_count": 11,
     "metadata": {},
     "output_type": "execute_result"
    }
   ],
   "source": [
    "l[7]"
   ]
  },
  {
   "cell_type": "code",
   "execution_count": 12,
   "id": "dcecfeb9",
   "metadata": {},
   "outputs": [
    {
     "data": {
      "text/plain": [
       "'poopoolala'"
      ]
     },
     "execution_count": 12,
     "metadata": {},
     "output_type": "execute_result"
    }
   ],
   "source": [
    "l[-3]"
   ]
  },
  {
   "cell_type": "code",
   "execution_count": 13,
   "id": "91b630d5",
   "metadata": {},
   "outputs": [
    {
     "data": {
      "text/plain": [
       "'snehan'"
      ]
     },
     "execution_count": 13,
     "metadata": {},
     "output_type": "execute_result"
    }
   ],
   "source": [
    "s"
   ]
  },
  {
   "cell_type": "markdown",
   "id": "3c11200a",
   "metadata": {},
   "source": [
    "l"
   ]
  },
  {
   "cell_type": "code",
   "execution_count": 15,
   "id": "3900a108",
   "metadata": {},
   "outputs": [
    {
     "data": {
      "text/plain": [
       "'sudh'"
      ]
     },
     "execution_count": 15,
     "metadata": {},
     "output_type": "execute_result"
    }
   ],
   "source": [
    "l[6]"
   ]
  },
  {
   "cell_type": "code",
   "execution_count": 16,
   "id": "a347bc1e",
   "metadata": {},
   "outputs": [],
   "source": [
    "l[6] = 100"
   ]
  },
  {
   "cell_type": "code",
   "execution_count": 17,
   "id": "0d93ca77",
   "metadata": {},
   "outputs": [
    {
     "data": {
      "text/plain": [
       "[2, 3, 4, 5, 6, 6, 100, 'poopoolala', True, (4+7j)]"
      ]
     },
     "execution_count": 17,
     "metadata": {},
     "output_type": "execute_result"
    }
   ],
   "source": [
    "l"
   ]
  },
  {
   "cell_type": "markdown",
   "id": "9cc08dcb",
   "metadata": {},
   "source": [
    "this is something called as **mutability**"
   ]
  },
  {
   "cell_type": "code",
   "execution_count": 18,
   "id": "28cb2bbb",
   "metadata": {},
   "outputs": [
    {
     "data": {
      "text/plain": [
       "'snehan'"
      ]
     },
     "execution_count": 18,
     "metadata": {},
     "output_type": "execute_result"
    }
   ],
   "source": [
    "s"
   ]
  },
  {
   "cell_type": "code",
   "execution_count": 19,
   "id": "8bd0c07e",
   "metadata": {},
   "outputs": [
    {
     "ename": "TypeError",
     "evalue": "'str' object does not support item assignment",
     "output_type": "error",
     "traceback": [
      "\u001b[1;31m---------------------------------------------------------------------------\u001b[0m",
      "\u001b[1;31mTypeError\u001b[0m                                 Traceback (most recent call last)",
      "Cell \u001b[1;32mIn[19], line 1\u001b[0m\n\u001b[1;32m----> 1\u001b[0m s[\u001b[38;5;241m2\u001b[39m] \u001b[38;5;241m=\u001b[39m \u001b[38;5;124m'\u001b[39m\u001b[38;5;124ma\u001b[39m\u001b[38;5;124m'\u001b[39m\n",
      "\u001b[1;31mTypeError\u001b[0m: 'str' object does not support item assignment"
     ]
    }
   ],
   "source": [
    "s[2] = 'a'"
   ]
  },
  {
   "cell_type": "code",
   "execution_count": null,
   "id": "5404ed7a",
   "metadata": {},
   "outputs": [],
   "source": [
    "s = \"suah\""
   ]
  },
  {
   "cell_type": "markdown",
   "id": "389a26ce",
   "metadata": {},
   "source": [
    "requirement was to change something at a particula index but it is not done--> this is something called as **immutability**"
   ]
  },
  {
   "cell_type": "markdown",
   "id": "f21551e5",
   "metadata": {},
   "source": [
    "**mutability**:\n",
    "if you are able to change something at a particular indexes for a particular collection or data type that is called as mutability\n",
    "\n",
    "\n",
    "in case of **list** it is possible\n",
    "\n",
    "it is a mutable object.\n",
    "\n",
    "\n",
    "in case of **string** it is not possible \n",
    "\n",
    "it is an immmutable object."
   ]
  },
  {
   "cell_type": "code",
   "execution_count": null,
   "id": "3d58d32a",
   "metadata": {},
   "outputs": [],
   "source": []
  }
 ],
 "metadata": {
  "kernelspec": {
   "display_name": "Python 3 (ipykernel)",
   "language": "python",
   "name": "python3"
  },
  "language_info": {
   "codemirror_mode": {
    "name": "ipython",
    "version": 3
   },
   "file_extension": ".py",
   "mimetype": "text/x-python",
   "name": "python",
   "nbconvert_exporter": "python",
   "pygments_lexer": "ipython3",
   "version": "3.10.9"
  }
 },
 "nbformat": 4,
 "nbformat_minor": 5
}
