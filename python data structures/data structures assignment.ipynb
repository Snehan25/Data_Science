{
 "cells": [
  {
   "cell_type": "markdown",
   "id": "b0b39770",
   "metadata": {},
   "source": [
    "# Q1 #"
   ]
  },
  {
   "cell_type": "code",
   "execution_count": 3,
   "id": "eda299fe",
   "metadata": {},
   "outputs": [
    {
     "name": "stdout",
     "output_type": "stream",
     "text": [
      "types of comment\n"
     ]
    }
   ],
   "source": [
    "# single line comment\n",
    "\"\"\"\n",
    "multi line comment\n",
    "line1\n",
    "line2\n",
    "line3\n",
    "\"\"\"\n",
    "print(\"types of comment\")"
   ]
  },
  {
   "cell_type": "markdown",
   "id": "8e4282f9",
   "metadata": {},
   "source": [
    "# Q2 #"
   ]
  },
  {
   "cell_type": "code",
   "execution_count": 6,
   "id": "82b7d546",
   "metadata": {},
   "outputs": [
    {
     "name": "stdout",
     "output_type": "stream",
     "text": [
      "John 25 True\n"
     ]
    }
   ],
   "source": [
    "name = \"John\"\n",
    "age = 25\n",
    "is_student = True\n",
    "\n",
    "print(name,\n",
    "age,\n",
    "is_student)"
   ]
  },
  {
   "cell_type": "markdown",
   "id": "1556e115",
   "metadata": {},
   "source": [
    "# Q3 #\n"
   ]
  },
  {
   "cell_type": "code",
   "execution_count": 15,
   "id": "64be8e53",
   "metadata": {},
   "outputs": [],
   "source": [
    "#typecasting\n",
    "name= 123\n",
    "name1= int(name)"
   ]
  },
  {
   "cell_type": "code",
   "execution_count": 16,
   "id": "057ed493",
   "metadata": {},
   "outputs": [
    {
     "data": {
      "text/plain": [
       "int"
      ]
     },
     "execution_count": 16,
     "metadata": {},
     "output_type": "execute_result"
    }
   ],
   "source": [
    "type(name)"
   ]
  },
  {
   "cell_type": "code",
   "execution_count": 17,
   "id": "58cbfdb1",
   "metadata": {},
   "outputs": [],
   "source": [
    "name= \"123\""
   ]
  },
  {
   "cell_type": "code",
   "execution_count": 18,
   "id": "58fe7f13",
   "metadata": {},
   "outputs": [
    {
     "data": {
      "text/plain": [
       "str"
      ]
     },
     "execution_count": 18,
     "metadata": {},
     "output_type": "execute_result"
    }
   ],
   "source": [
    "type(name)"
   ]
  },
  {
   "cell_type": "code",
   "execution_count": 19,
   "id": "6a7b6a38",
   "metadata": {},
   "outputs": [
    {
     "data": {
      "text/plain": [
       "int"
      ]
     },
     "execution_count": 19,
     "metadata": {},
     "output_type": "execute_result"
    }
   ],
   "source": [
    "type(name1)"
   ]
  },
  {
   "cell_type": "code",
   "execution_count": 20,
   "id": "69982683",
   "metadata": {},
   "outputs": [
    {
     "data": {
      "text/plain": [
       "int"
      ]
     },
     "execution_count": 20,
     "metadata": {},
     "output_type": "execute_result"
    }
   ],
   "source": [
    "type(int(name))"
   ]
  },
  {
   "cell_type": "markdown",
   "id": "db489824",
   "metadata": {},
   "source": [
    "# Q4 #"
   ]
  }
 ],
 "metadata": {
  "kernelspec": {
   "display_name": "Python 3 (ipykernel)",
   "language": "python",
   "name": "python3"
  },
  "language_info": {
   "codemirror_mode": {
    "name": "ipython",
    "version": 3
   },
   "file_extension": ".py",
   "mimetype": "text/x-python",
   "name": "python",
   "nbconvert_exporter": "python",
   "pygments_lexer": "ipython3",
   "version": "3.10.9"
  }
 },
 "nbformat": 4,
 "nbformat_minor": 5
}
