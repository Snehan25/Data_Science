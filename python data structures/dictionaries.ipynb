{
 "cells": [
  {
   "cell_type": "code",
   "execution_count": 1,
   "id": "3d04b91c",
   "metadata": {},
   "outputs": [],
   "source": [
    "d = {}"
   ]
  },
  {
   "cell_type": "code",
   "execution_count": 3,
   "id": "166242e2",
   "metadata": {},
   "outputs": [
    {
     "data": {
      "text/plain": [
       "dict"
      ]
     },
     "execution_count": 3,
     "metadata": {},
     "output_type": "execute_result"
    }
   ],
   "source": [
    "type(d)"
   ]
  },
  {
   "cell_type": "code",
   "execution_count": 4,
   "id": "5e517ef6",
   "metadata": {},
   "outputs": [],
   "source": [
    "d1 = {\"name\": \"snehan\", \"email_id\": \"snehansahoo123@gmail.com \", \"number\": 123}\n",
    "#      key     value      key         value                        key    value\n",
    "\n",
    "#key value pairs"
   ]
  },
  {
   "cell_type": "code",
   "execution_count": 5,
   "id": "03d0d3cf",
   "metadata": {},
   "outputs": [
    {
     "data": {
      "text/plain": [
       "dict"
      ]
     },
     "execution_count": 5,
     "metadata": {},
     "output_type": "execute_result"
    }
   ],
   "source": [
    "type(d1)"
   ]
  },
  {
   "cell_type": "code",
   "execution_count": 6,
   "id": "eec099cb",
   "metadata": {},
   "outputs": [
    {
     "data": {
      "text/plain": [
       "{'name': 'snehan', 'email_id': 'snehansahoo123@gmail.com ', 'number': 123}"
      ]
     },
     "execution_count": 6,
     "metadata": {},
     "output_type": "execute_result"
    }
   ],
   "source": [
    "d1"
   ]
  },
  {
   "cell_type": "code",
   "execution_count": 7,
   "id": "419641fc",
   "metadata": {},
   "outputs": [],
   "source": [
    "d2= {\"name\": \"snehan\",\"name\": \"sahoo\"}"
   ]
  },
  {
   "cell_type": "code",
   "execution_count": 8,
   "id": "0599fe01",
   "metadata": {},
   "outputs": [
    {
     "data": {
      "text/plain": [
       "{'name': 'sahoo'}"
      ]
     },
     "execution_count": 8,
     "metadata": {},
     "output_type": "execute_result"
    }
   ],
   "source": [
    "d2"
   ]
  },
  {
   "cell_type": "markdown",
   "id": "9bf487c5",
   "metadata": {},
   "source": [
    "not showing the first key and value pair (name) why?\n",
    "\n",
    "because whenever you are trying to create a **dictionary the key should be unique.**\n",
    "\n",
    "if you are going to create again the same key that you have already created in the past **it will update it with the new value**"
   ]
  },
  {
   "cell_type": "code",
   "execution_count": 9,
   "id": "0123e63e",
   "metadata": {},
   "outputs": [],
   "source": [
    "d3={234567 : \"abc\"}\n",
    "#key can be a string as well as numeric value"
   ]
  },
  {
   "cell_type": "code",
   "execution_count": 10,
   "id": "41a609d8",
   "metadata": {},
   "outputs": [
    {
     "data": {
      "text/plain": [
       "{234567: 'abc'}"
      ]
     },
     "execution_count": 10,
     "metadata": {},
     "output_type": "execute_result"
    }
   ],
   "source": [
    "d3"
   ]
  },
  {
   "cell_type": "code",
   "execution_count": 11,
   "id": "33f325bd",
   "metadata": {},
   "outputs": [],
   "source": [
    "d4={234.25 : \"abc\"}"
   ]
  },
  {
   "cell_type": "code",
   "execution_count": 12,
   "id": "2b509f39",
   "metadata": {},
   "outputs": [
    {
     "data": {
      "text/plain": [
       "{234.25: 'abc'}"
      ]
     },
     "execution_count": 12,
     "metadata": {},
     "output_type": "execute_result"
    }
   ],
   "source": [
    "d4"
   ]
  },
  {
   "cell_type": "code",
   "execution_count": 14,
   "id": "611ce244",
   "metadata": {},
   "outputs": [],
   "source": [
    "d5={True : \"abc\"}"
   ]
  },
  {
   "cell_type": "code",
   "execution_count": 15,
   "id": "651a685d",
   "metadata": {},
   "outputs": [
    {
     "data": {
      "text/plain": [
       "{True: 'abc'}"
      ]
     },
     "execution_count": 15,
     "metadata": {},
     "output_type": "execute_result"
    }
   ],
   "source": [
    "d5"
   ]
  },
  {
   "cell_type": "code",
   "execution_count": 17,
   "id": "ea190e19",
   "metadata": {},
   "outputs": [
    {
     "ename": "SyntaxError",
     "evalue": "incomplete input (2725229618.py, line 1)",
     "output_type": "error",
     "traceback": [
      "\u001b[1;36m  Cell \u001b[1;32mIn[17], line 1\u001b[1;36m\u001b[0m\n\u001b[1;33m    d6={# : \"abc\"}\u001b[0m\n\u001b[1;37m                  ^\u001b[0m\n\u001b[1;31mSyntaxError\u001b[0m\u001b[1;31m:\u001b[0m incomplete input\n"
     ]
    }
   ],
   "source": [
    "d6={# : \"abc\"} #special case char not allowed as a key of the dict"
   ]
  },
  {
   "cell_type": "code",
   "execution_count": 18,
   "id": "a06e3b73",
   "metadata": {},
   "outputs": [
    {
     "ename": "SyntaxError",
     "evalue": "invalid syntax (630726308.py, line 1)",
     "output_type": "error",
     "traceback": [
      "\u001b[1;36m  Cell \u001b[1;32mIn[18], line 1\u001b[1;36m\u001b[0m\n\u001b[1;33m    d7 = {@ : \"abc\"}\u001b[0m\n\u001b[1;37m          ^\u001b[0m\n\u001b[1;31mSyntaxError\u001b[0m\u001b[1;31m:\u001b[0m invalid syntax\n"
     ]
    }
   ],
   "source": [
    "d7 = {@ : \"abc\"}"
   ]
  },
  {
   "cell_type": "code",
   "execution_count": 19,
   "id": "06939cef",
   "metadata": {},
   "outputs": [
    {
     "ename": "TypeError",
     "evalue": "unhashable type: 'list'",
     "output_type": "error",
     "traceback": [
      "\u001b[1;31m---------------------------------------------------------------------------\u001b[0m",
      "\u001b[1;31mTypeError\u001b[0m                                 Traceback (most recent call last)",
      "Cell \u001b[1;32mIn[19], line 1\u001b[0m\n\u001b[1;32m----> 1\u001b[0m d8 \u001b[38;5;241m=\u001b[39m {[\u001b[38;5;241m1\u001b[39m,\u001b[38;5;241m2\u001b[39m,\u001b[38;5;241m3\u001b[39m] : \u001b[38;5;124m\"\u001b[39m\u001b[38;5;124mabc\u001b[39m\u001b[38;5;124m\"\u001b[39m}\n",
      "\u001b[1;31mTypeError\u001b[0m: unhashable type: 'list'"
     ]
    }
   ],
   "source": [
    "d8 = {[1,2,3] : \"abc\"}"
   ]
  },
  {
   "cell_type": "code",
   "execution_count": 20,
   "id": "0ac9e76a",
   "metadata": {},
   "outputs": [],
   "source": [
    "d9 = {(1,2,3) : \"abc\"}"
   ]
  },
  {
   "cell_type": "code",
   "execution_count": 21,
   "id": "c8f1b9e1",
   "metadata": {},
   "outputs": [
    {
     "data": {
      "text/plain": [
       "{(1, 2, 3): 'abc'}"
      ]
     },
     "execution_count": 21,
     "metadata": {},
     "output_type": "execute_result"
    }
   ],
   "source": [
    "d9"
   ]
  },
  {
   "cell_type": "code",
   "execution_count": 22,
   "id": "cc50211e",
   "metadata": {},
   "outputs": [
    {
     "ename": "TypeError",
     "evalue": "unhashable type: 'set'",
     "output_type": "error",
     "traceback": [
      "\u001b[1;31m---------------------------------------------------------------------------\u001b[0m",
      "\u001b[1;31mTypeError\u001b[0m                                 Traceback (most recent call last)",
      "Cell \u001b[1;32mIn[22], line 1\u001b[0m\n\u001b[1;32m----> 1\u001b[0m d10 \u001b[38;5;241m=\u001b[39m {{\u001b[38;5;241m1\u001b[39m,\u001b[38;5;241m2\u001b[39m,\u001b[38;5;241m3\u001b[39m}: \u001b[38;5;124m\"\u001b[39m\u001b[38;5;124mabc\u001b[39m\u001b[38;5;124m\"\u001b[39m}\n",
      "\u001b[1;31mTypeError\u001b[0m: unhashable type: 'set'"
     ]
    }
   ],
   "source": [
    "d10 = {{1,2,3}: \"abc\"}"
   ]
  },
  {
   "cell_type": "code",
   "execution_count": 23,
   "id": "3d70b679",
   "metadata": {},
   "outputs": [
    {
     "ename": "TypeError",
     "evalue": "unhashable type: 'dict'",
     "output_type": "error",
     "traceback": [
      "\u001b[1;31m---------------------------------------------------------------------------\u001b[0m",
      "\u001b[1;31mTypeError\u001b[0m                                 Traceback (most recent call last)",
      "Cell \u001b[1;32mIn[23], line 1\u001b[0m\n\u001b[1;32m----> 1\u001b[0m d11 \u001b[38;5;241m=\u001b[39m {{\u001b[38;5;124m\"\u001b[39m\u001b[38;5;124mkey\u001b[39m\u001b[38;5;124m\"\u001b[39m : \u001b[38;5;241m123\u001b[39m} : \u001b[38;5;124m\"\u001b[39m\u001b[38;5;124mabc\u001b[39m\u001b[38;5;124m\"\u001b[39m}\n",
      "\u001b[1;31mTypeError\u001b[0m: unhashable type: 'dict'"
     ]
    }
   ],
   "source": [
    "d11 = {{\"key\" : 123} : \"abc\"}"
   ]
  },
  {
   "cell_type": "code",
   "execution_count": 24,
   "id": "10de0304",
   "metadata": {},
   "outputs": [],
   "source": [
    "d12 = {\"course_name\" : [\"data science\", \"web dev\", \"java\", \"dsa\"]}"
   ]
  },
  {
   "cell_type": "code",
   "execution_count": 25,
   "id": "a719fdd1",
   "metadata": {},
   "outputs": [
    {
     "data": {
      "text/plain": [
       "{'course_name': ['data science', 'web dev', 'java', 'dsa']}"
      ]
     },
     "execution_count": 25,
     "metadata": {},
     "output_type": "execute_result"
    }
   ],
   "source": [
    "d12"
   ]
  },
  {
   "cell_type": "code",
   "execution_count": 26,
   "id": "59b5bd45",
   "metadata": {},
   "outputs": [],
   "source": [
    "d13= {\"key\": (1,2,3,4,5)}"
   ]
  },
  {
   "cell_type": "code",
   "execution_count": 27,
   "id": "34ac156f",
   "metadata": {},
   "outputs": [
    {
     "data": {
      "text/plain": [
       "{'key': (1, 2, 3, 4, 5)}"
      ]
     },
     "execution_count": 27,
     "metadata": {},
     "output_type": "execute_result"
    }
   ],
   "source": [
    "d13"
   ]
  },
  {
   "cell_type": "code",
   "execution_count": 28,
   "id": "05f6ec81",
   "metadata": {},
   "outputs": [],
   "source": [
    "d14= {\"key\" : {1,2,3,4}}"
   ]
  },
  {
   "cell_type": "code",
   "execution_count": 29,
   "id": "8828d950",
   "metadata": {},
   "outputs": [
    {
     "data": {
      "text/plain": [
       "{'key': {1, 2, 3, 4}}"
      ]
     },
     "execution_count": 29,
     "metadata": {},
     "output_type": "execute_result"
    }
   ],
   "source": [
    "d14"
   ]
  },
  {
   "cell_type": "code",
   "execution_count": 30,
   "id": "f01f367d",
   "metadata": {},
   "outputs": [],
   "source": [
    "d15={\"key\": {\"name\": \"snehan\", \"class\": \"ds\"}}\n",
    "#dict inside a dict(nested dict)"
   ]
  },
  {
   "cell_type": "code",
   "execution_count": 31,
   "id": "fafab2ee",
   "metadata": {},
   "outputs": [
    {
     "data": {
      "text/plain": [
       "{'key': {'name': 'snehan', 'class': 'ds'}}"
      ]
     },
     "execution_count": 31,
     "metadata": {},
     "output_type": "execute_result"
    }
   ],
   "source": [
    "d15"
   ]
  },
  {
   "cell_type": "code",
   "execution_count": 33,
   "id": "8267a561",
   "metadata": {},
   "outputs": [],
   "source": [
    "d16={\"batch_name\":[\"data science\",\"web dev\",\"java\"],\"start_date\":(28,14,15),\"mentor_name\": {\"abc\",\"def\",\"ghi\",\"jkl\"} }\n",
    "#                    list                                          tuple                      set"
   ]
  },
  {
   "cell_type": "code",
   "execution_count": 34,
   "id": "40c48654",
   "metadata": {},
   "outputs": [
    {
     "data": {
      "text/plain": [
       "{'batch_name': ['data science', 'web dev', 'java'],\n",
       " 'start_date': (28, 14, 15),\n",
       " 'mentor_name': {'abc', 'def', 'ghi', 'jkl'}}"
      ]
     },
     "execution_count": 34,
     "metadata": {},
     "output_type": "execute_result"
    }
   ],
   "source": [
    "d16"
   ]
  },
  {
   "cell_type": "code",
   "execution_count": 35,
   "id": "460fd120",
   "metadata": {},
   "outputs": [],
   "source": [
    "d16[\"timing\"]= (8,8,8) #adding new key value pair to dict"
   ]
  },
  {
   "cell_type": "code",
   "execution_count": 36,
   "id": "435ab794",
   "metadata": {},
   "outputs": [
    {
     "data": {
      "text/plain": [
       "{'batch_name': ['data science', 'web dev', 'java'],\n",
       " 'start_date': (28, 14, 15),\n",
       " 'mentor_name': {'abc', 'def', 'ghi', 'jkl'},\n",
       " 'timing': (8, 8, 8)}"
      ]
     },
     "execution_count": 36,
     "metadata": {},
     "output_type": "execute_result"
    }
   ],
   "source": [
    "d16"
   ]
  },
  {
   "cell_type": "code",
   "execution_count": 37,
   "id": "9109d797",
   "metadata": {},
   "outputs": [
    {
     "data": {
      "text/plain": [
       "['data science', 'web dev', 'java']"
      ]
     },
     "execution_count": 37,
     "metadata": {},
     "output_type": "execute_result"
    }
   ],
   "source": [
    "d16[\"batch_name\"]"
   ]
  },
  {
   "cell_type": "code",
   "execution_count": 38,
   "id": "9a4aa692",
   "metadata": {},
   "outputs": [
    {
     "data": {
      "text/plain": [
       "{'abc', 'def', 'ghi', 'jkl'}"
      ]
     },
     "execution_count": 38,
     "metadata": {},
     "output_type": "execute_result"
    }
   ],
   "source": [
    "d16[\"mentor_name\"]"
   ]
  },
  {
   "cell_type": "code",
   "execution_count": 39,
   "id": "8225a342",
   "metadata": {},
   "outputs": [
    {
     "data": {
      "text/plain": [
       "set"
      ]
     },
     "execution_count": 39,
     "metadata": {},
     "output_type": "execute_result"
    }
   ],
   "source": [
    "type(d16[\"mentor_name\"])"
   ]
  },
  {
   "cell_type": "code",
   "execution_count": 40,
   "id": "23e20997",
   "metadata": {},
   "outputs": [
    {
     "ename": "KeyError",
     "evalue": "'key'",
     "output_type": "error",
     "traceback": [
      "\u001b[1;31m---------------------------------------------------------------------------\u001b[0m",
      "\u001b[1;31mKeyError\u001b[0m                                  Traceback (most recent call last)",
      "Cell \u001b[1;32mIn[40], line 1\u001b[0m\n\u001b[1;32m----> 1\u001b[0m \u001b[43md16\u001b[49m\u001b[43m[\u001b[49m\u001b[38;5;124;43m\"\u001b[39;49m\u001b[38;5;124;43mkey\u001b[39;49m\u001b[38;5;124;43m\"\u001b[39;49m\u001b[43m]\u001b[49m\n",
      "\u001b[1;31mKeyError\u001b[0m: 'key'"
     ]
    }
   ],
   "source": [
    "d16[\"key\"] # key doesn't exist inside dict"
   ]
  },
  {
   "cell_type": "code",
   "execution_count": 44,
   "id": "677b74b0",
   "metadata": {},
   "outputs": [],
   "source": [
    "d16[\"name\"] = \"snehan\""
   ]
  },
  {
   "cell_type": "code",
   "execution_count": 45,
   "id": "b9d7cfa1",
   "metadata": {},
   "outputs": [
    {
     "data": {
      "text/plain": [
       "{'batch_name': ['data science', 'web dev', 'java'],\n",
       " 'start_date': (28, 14, 15),\n",
       " 'mentor_name': {'abc', 'def', 'ghi', 'jkl'},\n",
       " 'timing': (8, 8, 8),\n",
       " 'name': 'snehan'}"
      ]
     },
     "execution_count": 45,
     "metadata": {},
     "output_type": "execute_result"
    }
   ],
   "source": [
    "d16"
   ]
  },
  {
   "cell_type": "code",
   "execution_count": 46,
   "id": "2058b19f",
   "metadata": {},
   "outputs": [
    {
     "data": {
      "text/plain": [
       "'snehan'"
      ]
     },
     "execution_count": 46,
     "metadata": {},
     "output_type": "execute_result"
    }
   ],
   "source": [
    "d16[\"name\"]"
   ]
  },
  {
   "cell_type": "code",
   "execution_count": 47,
   "id": "8b8d56bc",
   "metadata": {},
   "outputs": [
    {
     "data": {
      "text/plain": [
       "{'key': {'name': 'snehan', 'class': 'ds'}}"
      ]
     },
     "execution_count": 47,
     "metadata": {},
     "output_type": "execute_result"
    }
   ],
   "source": [
    "d15 #nested dict"
   ]
  },
  {
   "cell_type": "code",
   "execution_count": 48,
   "id": "46379ad7",
   "metadata": {},
   "outputs": [
    {
     "data": {
      "text/plain": [
       "{'name': 'snehan', 'class': 'ds'}"
      ]
     },
     "execution_count": 48,
     "metadata": {},
     "output_type": "execute_result"
    }
   ],
   "source": [
    "d15[\"key\"]"
   ]
  },
  {
   "cell_type": "code",
   "execution_count": 49,
   "id": "5c9c4b2d",
   "metadata": {},
   "outputs": [
    {
     "data": {
      "text/plain": [
       "dict"
      ]
     },
     "execution_count": 49,
     "metadata": {},
     "output_type": "execute_result"
    }
   ],
   "source": [
    "type(d15[\"key\"])"
   ]
  },
  {
   "cell_type": "code",
   "execution_count": 50,
   "id": "a900d305",
   "metadata": {},
   "outputs": [
    {
     "data": {
      "text/plain": [
       "'ds'"
      ]
     },
     "execution_count": 50,
     "metadata": {},
     "output_type": "execute_result"
    }
   ],
   "source": [
    "d15[\"key\"][\"class\"]"
   ]
  },
  {
   "cell_type": "code",
   "execution_count": 51,
   "id": "b35a0c64",
   "metadata": {},
   "outputs": [],
   "source": [
    "d15[\"key1\"]= \"abc\""
   ]
  },
  {
   "cell_type": "code",
   "execution_count": 52,
   "id": "8bc83b6a",
   "metadata": {},
   "outputs": [
    {
     "data": {
      "text/plain": [
       "{'key': {'name': 'snehan', 'class': 'ds'}, 'key1': 'abc'}"
      ]
     },
     "execution_count": 52,
     "metadata": {},
     "output_type": "execute_result"
    }
   ],
   "source": [
    "d15"
   ]
  },
  {
   "cell_type": "code",
   "execution_count": 53,
   "id": "1ef7719d",
   "metadata": {},
   "outputs": [],
   "source": [
    "del d15[\"key1\"]"
   ]
  },
  {
   "cell_type": "code",
   "execution_count": 54,
   "id": "2fe9ddf3",
   "metadata": {},
   "outputs": [
    {
     "data": {
      "text/plain": [
       "{'key': {'name': 'snehan', 'class': 'ds'}}"
      ]
     },
     "execution_count": 54,
     "metadata": {},
     "output_type": "execute_result"
    }
   ],
   "source": [
    "d15"
   ]
  },
  {
   "cell_type": "code",
   "execution_count": 55,
   "id": "33b0403c",
   "metadata": {},
   "outputs": [],
   "source": [
    "d15.clear()"
   ]
  },
  {
   "cell_type": "code",
   "execution_count": 56,
   "id": "5f9a691f",
   "metadata": {},
   "outputs": [
    {
     "data": {
      "text/plain": [
       "{}"
      ]
     },
     "execution_count": 56,
     "metadata": {},
     "output_type": "execute_result"
    }
   ],
   "source": [
    "d15"
   ]
  },
  {
   "cell_type": "code",
   "execution_count": 57,
   "id": "19796202",
   "metadata": {},
   "outputs": [
    {
     "data": {
      "text/plain": [
       "5"
      ]
     },
     "execution_count": 57,
     "metadata": {},
     "output_type": "execute_result"
    }
   ],
   "source": [
    "len(d16) #total key value pair"
   ]
  },
  {
   "cell_type": "code",
   "execution_count": 58,
   "id": "a82ef6cb",
   "metadata": {},
   "outputs": [
    {
     "data": {
      "text/plain": [
       "{'batch_name': ['data science', 'web dev', 'java'],\n",
       " 'start_date': (28, 14, 15),\n",
       " 'mentor_name': {'abc', 'def', 'ghi', 'jkl'},\n",
       " 'timing': (8, 8, 8),\n",
       " 'name': 'snehan'}"
      ]
     },
     "execution_count": 58,
     "metadata": {},
     "output_type": "execute_result"
    }
   ],
   "source": [
    "d16"
   ]
  },
  {
   "cell_type": "code",
   "execution_count": 59,
   "id": "a71a57b8",
   "metadata": {},
   "outputs": [
    {
     "data": {
      "text/plain": [
       "dict_keys(['batch_name', 'start_date', 'mentor_name', 'timing', 'name'])"
      ]
     },
     "execution_count": 59,
     "metadata": {},
     "output_type": "execute_result"
    }
   ],
   "source": [
    "d16.keys()"
   ]
  },
  {
   "cell_type": "code",
   "execution_count": 60,
   "id": "62a66c7a",
   "metadata": {},
   "outputs": [
    {
     "data": {
      "text/plain": [
       "dict_values([['data science', 'web dev', 'java'], (28, 14, 15), {'ghi', 'abc', 'jkl', 'def'}, (8, 8, 8), 'snehan'])"
      ]
     },
     "execution_count": 60,
     "metadata": {},
     "output_type": "execute_result"
    }
   ],
   "source": [
    "d16.values()"
   ]
  },
  {
   "cell_type": "code",
   "execution_count": 61,
   "id": "82230d0f",
   "metadata": {},
   "outputs": [
    {
     "data": {
      "text/plain": [
       "[['data science', 'web dev', 'java'],\n",
       " (28, 14, 15),\n",
       " {'abc', 'def', 'ghi', 'jkl'},\n",
       " (8, 8, 8),\n",
       " 'snehan']"
      ]
     },
     "execution_count": 61,
     "metadata": {},
     "output_type": "execute_result"
    }
   ],
   "source": [
    "list(d16.values())"
   ]
  },
  {
   "cell_type": "code",
   "execution_count": 62,
   "id": "29416c8f",
   "metadata": {},
   "outputs": [
    {
     "data": {
      "text/plain": [
       "['batch_name', 'start_date', 'mentor_name', 'timing', 'name']"
      ]
     },
     "execution_count": 62,
     "metadata": {},
     "output_type": "execute_result"
    }
   ],
   "source": [
    "list(d16.keys())"
   ]
  },
  {
   "cell_type": "code",
   "execution_count": 63,
   "id": "e2e67669",
   "metadata": {},
   "outputs": [
    {
     "data": {
      "text/plain": [
       "dict_items([('batch_name', ['data science', 'web dev', 'java']), ('start_date', (28, 14, 15)), ('mentor_name', {'ghi', 'abc', 'jkl', 'def'}), ('timing', (8, 8, 8)), ('name', 'snehan')])"
      ]
     },
     "execution_count": 63,
     "metadata": {},
     "output_type": "execute_result"
    }
   ],
   "source": [
    "d16.items()"
   ]
  },
  {
   "cell_type": "code",
   "execution_count": 64,
   "id": "c7febb5d",
   "metadata": {},
   "outputs": [
    {
     "data": {
      "text/plain": [
       "[('batch_name', ['data science', 'web dev', 'java']),\n",
       " ('start_date', (28, 14, 15)),\n",
       " ('mentor_name', {'abc', 'def', 'ghi', 'jkl'}),\n",
       " ('timing', (8, 8, 8)),\n",
       " ('name', 'snehan')]"
      ]
     },
     "execution_count": 64,
     "metadata": {},
     "output_type": "execute_result"
    }
   ],
   "source": [
    "list(d16.items())"
   ]
  },
  {
   "cell_type": "code",
   "execution_count": 66,
   "id": "87895146",
   "metadata": {},
   "outputs": [
    {
     "data": {
      "text/plain": [
       "{'batch_name': ['data science', 'web dev', 'java'],\n",
       " 'start_date': (28, 14, 15),\n",
       " 'mentor_name': {'abc', 'def', 'ghi', 'jkl'},\n",
       " 'timing': (8, 8, 8),\n",
       " 'name': 'snehan'}"
      ]
     },
     "execution_count": 66,
     "metadata": {},
     "output_type": "execute_result"
    }
   ],
   "source": [
    "d16"
   ]
  },
  {
   "cell_type": "code",
   "execution_count": 68,
   "id": "2b38fa11",
   "metadata": {},
   "outputs": [],
   "source": [
    "d17= d16.copy() #deep copy(copying whole data of d16 into d17)"
   ]
  },
  {
   "cell_type": "code",
   "execution_count": 69,
   "id": "6d3a1f05",
   "metadata": {},
   "outputs": [
    {
     "data": {
      "text/plain": [
       "{'batch_name': ['data science', 'web dev', 'java'],\n",
       " 'start_date': (28, 14, 15),\n",
       " 'mentor_name': {'abc', 'def', 'ghi', 'jkl'},\n",
       " 'timing': (8, 8, 8),\n",
       " 'name': 'snehan'}"
      ]
     },
     "execution_count": 69,
     "metadata": {},
     "output_type": "execute_result"
    }
   ],
   "source": [
    "d17"
   ]
  },
  {
   "cell_type": "code",
   "execution_count": 70,
   "id": "45d49fd3",
   "metadata": {},
   "outputs": [],
   "source": [
    "d18 = d16"
   ]
  },
  {
   "cell_type": "code",
   "execution_count": 71,
   "id": "8180c365",
   "metadata": {},
   "outputs": [
    {
     "data": {
      "text/plain": [
       "{'batch_name': ['data science', 'web dev', 'java'],\n",
       " 'start_date': (28, 14, 15),\n",
       " 'mentor_name': {'abc', 'def', 'ghi', 'jkl'},\n",
       " 'timing': (8, 8, 8),\n",
       " 'name': 'snehan'}"
      ]
     },
     "execution_count": 71,
     "metadata": {},
     "output_type": "execute_result"
    }
   ],
   "source": [
    "d18"
   ]
  },
  {
   "cell_type": "markdown",
   "id": "f03ddf7f",
   "metadata": {},
   "source": [
    "**deep copy reserves new space for the data**\n",
    "\n",
    "**replicates whole thing into a new memory**\n",
    "\n",
    "**if we make a change in the original data the copied data won't be affected and vice versa**"
   ]
  },
  {
   "cell_type": "code",
   "execution_count": 72,
   "id": "65dead8c",
   "metadata": {},
   "outputs": [],
   "source": [
    "del d16[\"name\"]"
   ]
  },
  {
   "cell_type": "code",
   "execution_count": 73,
   "id": "114b3404",
   "metadata": {},
   "outputs": [
    {
     "data": {
      "text/plain": [
       "{'batch_name': ['data science', 'web dev', 'java'],\n",
       " 'start_date': (28, 14, 15),\n",
       " 'mentor_name': {'abc', 'def', 'ghi', 'jkl'},\n",
       " 'timing': (8, 8, 8)}"
      ]
     },
     "execution_count": 73,
     "metadata": {},
     "output_type": "execute_result"
    }
   ],
   "source": [
    "d16 # name key is deleted"
   ]
  },
  {
   "cell_type": "code",
   "execution_count": 74,
   "id": "9ba7ecf3",
   "metadata": {},
   "outputs": [
    {
     "data": {
      "text/plain": [
       "{'batch_name': ['data science', 'web dev', 'java'],\n",
       " 'start_date': (28, 14, 15),\n",
       " 'mentor_name': {'abc', 'def', 'ghi', 'jkl'},\n",
       " 'timing': (8, 8, 8),\n",
       " 'name': 'snehan'}"
      ]
     },
     "execution_count": 74,
     "metadata": {},
     "output_type": "execute_result"
    }
   ],
   "source": [
    "d17 # deletion operation on d16 does not affect d17"
   ]
  },
  {
   "cell_type": "code",
   "execution_count": 75,
   "id": "a437e087",
   "metadata": {},
   "outputs": [
    {
     "data": {
      "text/plain": [
       "{'batch_name': ['data science', 'web dev', 'java'],\n",
       " 'start_date': (28, 14, 15),\n",
       " 'mentor_name': {'abc', 'def', 'ghi', 'jkl'},\n",
       " 'timing': (8, 8, 8)}"
      ]
     },
     "execution_count": 75,
     "metadata": {},
     "output_type": "execute_result"
    }
   ],
   "source": [
    "d18 # the deleted key removed from d18 as well because its a shallow copy\n",
    "# shallow copy gives a refence does not create a new memory location"
   ]
  },
  {
   "cell_type": "code",
   "execution_count": 76,
   "id": "d636febb",
   "metadata": {},
   "outputs": [
    {
     "data": {
      "text/plain": [
       "{'batch_name': ['data science', 'web dev', 'java'],\n",
       " 'start_date': (28, 14, 15),\n",
       " 'mentor_name': {'abc', 'def', 'ghi', 'jkl'},\n",
       " 'timing': (8, 8, 8)}"
      ]
     },
     "execution_count": 76,
     "metadata": {},
     "output_type": "execute_result"
    }
   ],
   "source": [
    "d16"
   ]
  },
  {
   "cell_type": "code",
   "execution_count": 77,
   "id": "d22217c9",
   "metadata": {},
   "outputs": [
    {
     "ename": "TypeError",
     "evalue": "pop expected at least 1 argument, got 0",
     "output_type": "error",
     "traceback": [
      "\u001b[1;31m---------------------------------------------------------------------------\u001b[0m",
      "\u001b[1;31mTypeError\u001b[0m                                 Traceback (most recent call last)",
      "Cell \u001b[1;32mIn[77], line 1\u001b[0m\n\u001b[1;32m----> 1\u001b[0m \u001b[43md16\u001b[49m\u001b[38;5;241;43m.\u001b[39;49m\u001b[43mpop\u001b[49m\u001b[43m(\u001b[49m\u001b[43m)\u001b[49m\n",
      "\u001b[1;31mTypeError\u001b[0m: pop expected at least 1 argument, got 0"
     ]
    }
   ],
   "source": [
    "d16.pop()"
   ]
  },
  {
   "cell_type": "code",
   "execution_count": 78,
   "id": "5cc44bad",
   "metadata": {},
   "outputs": [
    {
     "data": {
      "text/plain": [
       "(8, 8, 8)"
      ]
     },
     "execution_count": 78,
     "metadata": {},
     "output_type": "execute_result"
    }
   ],
   "source": [
    "d16.pop(\"timing\")"
   ]
  },
  {
   "cell_type": "code",
   "execution_count": 79,
   "id": "5ae1173b",
   "metadata": {},
   "outputs": [
    {
     "data": {
      "text/plain": [
       "{'batch_name': ['data science', 'web dev', 'java'],\n",
       " 'start_date': (28, 14, 15),\n",
       " 'mentor_name': {'abc', 'def', 'ghi', 'jkl'}}"
      ]
     },
     "execution_count": 79,
     "metadata": {},
     "output_type": "execute_result"
    }
   ],
   "source": [
    "d16"
   ]
  },
  {
   "cell_type": "code",
   "execution_count": 80,
   "id": "ae8d7e62",
   "metadata": {},
   "outputs": [
    {
     "data": {
      "text/plain": [
       "{'abc', 'def', 'ghi', 'jkl'}"
      ]
     },
     "execution_count": 80,
     "metadata": {},
     "output_type": "execute_result"
    }
   ],
   "source": [
    "d16.pop(\"mentor_name\")"
   ]
  },
  {
   "cell_type": "code",
   "execution_count": 81,
   "id": "1eeccdd0",
   "metadata": {},
   "outputs": [
    {
     "data": {
      "text/plain": [
       "{'batch_name': ['data science', 'web dev', 'java'], 'start_date': (28, 14, 15)}"
      ]
     },
     "execution_count": 81,
     "metadata": {},
     "output_type": "execute_result"
    }
   ],
   "source": [
    "d16"
   ]
  },
  {
   "cell_type": "code",
   "execution_count": 82,
   "id": "5291e23f",
   "metadata": {},
   "outputs": [
    {
     "data": {
      "text/plain": [
       "{1: ('a', 'b', 'c'), 2: ('a', 'b', 'c'), 3: ('a', 'b', 'c')}"
      ]
     },
     "execution_count": 82,
     "metadata": {},
     "output_type": "execute_result"
    }
   ],
   "source": [
    "d.fromkeys((1,2,3), (\"a\",\"b\",\"c\"))"
   ]
  },
  {
   "cell_type": "code",
   "execution_count": 84,
   "id": "c8a90d7b",
   "metadata": {},
   "outputs": [],
   "source": [
    "d19={\"key1\": \"value\", \"key2\": \"value2\"}\n",
    "d20={\"key3\": \"value3\",\"key4\": \"value4\"}"
   ]
  },
  {
   "cell_type": "code",
   "execution_count": 85,
   "id": "df93a2a7",
   "metadata": {},
   "outputs": [
    {
     "data": {
      "text/plain": [
       "({'key1': 'value', 'key2': 'value2'}, {'key3': 'value3', 'key4': 'value4'})"
      ]
     },
     "execution_count": 85,
     "metadata": {},
     "output_type": "execute_result"
    }
   ],
   "source": [
    "(d19,d20) #dict inside a tuple"
   ]
  },
  {
   "cell_type": "code",
   "execution_count": 86,
   "id": "c680d176",
   "metadata": {},
   "outputs": [],
   "source": [
    "d19.update(d20)"
   ]
  },
  {
   "cell_type": "code",
   "execution_count": 87,
   "id": "7a11f8e9",
   "metadata": {},
   "outputs": [
    {
     "data": {
      "text/plain": [
       "{'key1': 'value', 'key2': 'value2', 'key3': 'value3', 'key4': 'value4'}"
      ]
     },
     "execution_count": 87,
     "metadata": {},
     "output_type": "execute_result"
    }
   ],
   "source": [
    "d19"
   ]
  },
  {
   "cell_type": "code",
   "execution_count": 88,
   "id": "54ca3ed2",
   "metadata": {},
   "outputs": [
    {
     "data": {
      "text/plain": [
       "{'key3': 'value3', 'key4': 'value4'}"
      ]
     },
     "execution_count": 88,
     "metadata": {},
     "output_type": "execute_result"
    }
   ],
   "source": [
    "d20"
   ]
  },
  {
   "cell_type": "code",
   "execution_count": 89,
   "id": "96d577e2",
   "metadata": {},
   "outputs": [],
   "source": [
    "d20.update(d19)"
   ]
  },
  {
   "cell_type": "code",
   "execution_count": 90,
   "id": "983a0da5",
   "metadata": {},
   "outputs": [
    {
     "data": {
      "text/plain": [
       "{'key3': 'value3', 'key4': 'value4', 'key1': 'value', 'key2': 'value2'}"
      ]
     },
     "execution_count": 90,
     "metadata": {},
     "output_type": "execute_result"
    }
   ],
   "source": [
    "d20"
   ]
  },
  {
   "cell_type": "code",
   "execution_count": 92,
   "id": "91cae8fa",
   "metadata": {},
   "outputs": [],
   "source": [
    "d20.get(\"snehan\")"
   ]
  },
  {
   "cell_type": "code",
   "execution_count": 93,
   "id": "9916d937",
   "metadata": {},
   "outputs": [
    {
     "data": {
      "text/plain": [
       "'value3'"
      ]
     },
     "execution_count": 93,
     "metadata": {},
     "output_type": "execute_result"
    }
   ],
   "source": [
    "d20.get(\"key3\")"
   ]
  },
  {
   "cell_type": "code",
   "execution_count": 94,
   "id": "59aaf1c9",
   "metadata": {},
   "outputs": [
    {
     "data": {
      "text/plain": [
       "'value3'"
      ]
     },
     "execution_count": 94,
     "metadata": {},
     "output_type": "execute_result"
    }
   ],
   "source": [
    "d20[\"key3\"]"
   ]
  },
  {
   "cell_type": "code",
   "execution_count": 95,
   "id": "0413b186",
   "metadata": {},
   "outputs": [
    {
     "ename": "KeyError",
     "evalue": "'snehan'",
     "output_type": "error",
     "traceback": [
      "\u001b[1;31m---------------------------------------------------------------------------\u001b[0m",
      "\u001b[1;31mKeyError\u001b[0m                                  Traceback (most recent call last)",
      "Cell \u001b[1;32mIn[95], line 1\u001b[0m\n\u001b[1;32m----> 1\u001b[0m \u001b[43md20\u001b[49m\u001b[43m[\u001b[49m\u001b[38;5;124;43m\"\u001b[39;49m\u001b[38;5;124;43msnehan\u001b[39;49m\u001b[38;5;124;43m\"\u001b[39;49m\u001b[43m]\u001b[49m\n",
      "\u001b[1;31mKeyError\u001b[0m: 'snehan'"
     ]
    }
   ],
   "source": [
    "d20[\"snehan\"]\n",
    "# the only diff get doesn't give you any error"
   ]
  },
  {
   "cell_type": "markdown",
   "id": "54cd8923",
   "metadata": {},
   "source": [
    "### dictionary comprehension ###"
   ]
  },
  {
   "cell_type": "code",
   "execution_count": 99,
   "id": "f240616a",
   "metadata": {},
   "outputs": [
    {
     "data": {
      "text/plain": [
       "{1: 1, 2: 4, 3: 9, 4: 16, 5: 25, 6: 36, 7: 49, 8: 64, 9: 81, 10: 100}"
      ]
     },
     "execution_count": 99,
     "metadata": {},
     "output_type": "execute_result"
    }
   ],
   "source": [
    "{i : i**2 for i in range(1,11)}\n",
    "#key value"
   ]
  },
  {
   "cell_type": "code",
   "execution_count": 97,
   "id": "116378e0",
   "metadata": {},
   "outputs": [
    {
     "data": {
      "text/plain": [
       "[1, 2, 3, 4, 5, 6, 7, 8, 9, 10]"
      ]
     },
     "execution_count": 97,
     "metadata": {},
     "output_type": "execute_result"
    }
   ],
   "source": [
    "list(range(1,11))"
   ]
  },
  {
   "cell_type": "code",
   "execution_count": 100,
   "id": "a51a19aa",
   "metadata": {},
   "outputs": [
    {
     "data": {
      "text/plain": [
       "{1: 11, 2: 12, 3: 13, 4: 14, 5: 15, 6: 16, 7: 17, 8: 18, 9: 19, 10: 20}"
      ]
     },
     "execution_count": 100,
     "metadata": {},
     "output_type": "execute_result"
    }
   ],
   "source": [
    "{i : i+10 for i in range(1,11)}"
   ]
  },
  {
   "cell_type": "code",
   "execution_count": 109,
   "id": "1501ac2c",
   "metadata": {},
   "outputs": [
    {
     "data": {
      "text/plain": [
       "{1: 0.0,\n",
       " 2: 0.3010299956639812,\n",
       " 3: 0.47712125471966244,\n",
       " 4: 0.6020599913279624,\n",
       " 5: 0.6989700043360189,\n",
       " 6: 0.7781512503836436,\n",
       " 7: 0.8450980400142568,\n",
       " 8: 0.9030899869919435,\n",
       " 9: 0.9542425094393249,\n",
       " 10: 1.0}"
      ]
     },
     "execution_count": 109,
     "metadata": {},
     "output_type": "execute_result"
    }
   ],
   "source": [
    "import math\n",
    "{i : math.log10(i) for i in range(1,11)}\n"
   ]
  },
  {
   "cell_type": "code",
   "execution_count": 102,
   "id": "d3dc3ab8",
   "metadata": {},
   "outputs": [
    {
     "data": {
      "text/plain": [
       "{'batch_name': ['data science', 'web dev', 'java'], 'start_date': (28, 14, 15)}"
      ]
     },
     "execution_count": 102,
     "metadata": {},
     "output_type": "execute_result"
    }
   ],
   "source": [
    "d16"
   ]
  },
  {
   "cell_type": "code",
   "execution_count": 105,
   "id": "86b5d91d",
   "metadata": {},
   "outputs": [
    {
     "data": {
      "text/plain": [
       "True"
      ]
     },
     "execution_count": 105,
     "metadata": {},
     "output_type": "execute_result"
    }
   ],
   "source": [
    "\"batch_name\" in d16"
   ]
  },
  {
   "cell_type": "code",
   "execution_count": 110,
   "id": "f3a6b2b1",
   "metadata": {},
   "outputs": [],
   "source": [
    "d21= {i : math.log10(i) for i in range(1,11)}"
   ]
  },
  {
   "cell_type": "code",
   "execution_count": 111,
   "id": "2a56164b",
   "metadata": {},
   "outputs": [
    {
     "data": {
      "text/plain": [
       "{1: 0.0,\n",
       " 2: 0.3010299956639812,\n",
       " 3: 0.47712125471966244,\n",
       " 4: 0.6020599913279624,\n",
       " 5: 0.6989700043360189,\n",
       " 6: 0.7781512503836436,\n",
       " 7: 0.8450980400142568,\n",
       " 8: 0.9030899869919435,\n",
       " 9: 0.9542425094393249,\n",
       " 10: 1.0}"
      ]
     },
     "execution_count": 111,
     "metadata": {},
     "output_type": "execute_result"
    }
   ],
   "source": [
    "d21"
   ]
  },
  {
   "cell_type": "code",
   "execution_count": 112,
   "id": "d77aa0dd",
   "metadata": {},
   "outputs": [
    {
     "data": {
      "text/plain": [
       "dict_keys([1, 2, 3, 4, 5, 6, 7, 8, 9, 10])"
      ]
     },
     "execution_count": 112,
     "metadata": {},
     "output_type": "execute_result"
    }
   ],
   "source": [
    "d21.keys()"
   ]
  },
  {
   "cell_type": "code",
   "execution_count": 115,
   "id": "e1ba7924",
   "metadata": {},
   "outputs": [
    {
     "name": "stdout",
     "output_type": "stream",
     "text": [
      "0.3010299956639812\n",
      "0.6020599913279624\n",
      "0.7781512503836436\n",
      "0.9030899869919435\n",
      "1.0\n"
     ]
    }
   ],
   "source": [
    "#only those vales whose keys are even number\n",
    "for i in d21.keys():\n",
    "    if i%2==0:\n",
    "        print(d21[i])"
   ]
  },
  {
   "cell_type": "code",
   "execution_count": null,
   "id": "58dd8f36",
   "metadata": {},
   "outputs": [],
   "source": [
    "Open a text editor and write your Python code, saving the file with a .py extension. For example, my_script.py.\n",
    "\n",
    "Open a command prompt or terminal window.\n",
    "\n",
    "Navigate to the directory where your Python script is saved using the cd command. For example, if the script is in the Documents folder:"
   ]
  }
 ],
 "metadata": {
  "kernelspec": {
   "display_name": "Python 3 (ipykernel)",
   "language": "python",
   "name": "python3"
  },
  "language_info": {
   "codemirror_mode": {
    "name": "ipython",
    "version": 3
   },
   "file_extension": ".py",
   "mimetype": "text/x-python",
   "name": "python",
   "nbconvert_exporter": "python",
   "pygments_lexer": "ipython3",
   "version": "3.10.9"
  }
 },
 "nbformat": 4,
 "nbformat_minor": 5
}
