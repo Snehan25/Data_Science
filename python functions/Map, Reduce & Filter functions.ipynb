{
 "cells": [
  {
   "cell_type": "markdown",
   "id": "f39bbacc",
   "metadata": {},
   "source": [
    "## MAP ##"
   ]
  },
  {
   "cell_type": "code",
   "execution_count": 1,
   "id": "38c33806",
   "metadata": {},
   "outputs": [],
   "source": [
    "l = [1,2,3,4,45,5]"
   ]
  },
  {
   "cell_type": "code",
   "execution_count": 3,
   "id": "a38cec56",
   "metadata": {},
   "outputs": [],
   "source": [
    "def test(l):\n",
    "    l1 = []\n",
    "    for i in l:\n",
    "        l1.append(i**2)\n",
    "    return l1"
   ]
  },
  {
   "cell_type": "code",
   "execution_count": 4,
   "id": "aeddbc9a",
   "metadata": {},
   "outputs": [
    {
     "data": {
      "text/plain": [
       "[1, 4, 9, 16, 2025, 25]"
      ]
     },
     "execution_count": 4,
     "metadata": {},
     "output_type": "execute_result"
    }
   ],
   "source": [
    "test(l)"
   ]
  },
  {
   "cell_type": "code",
   "execution_count": 6,
   "id": "e6546887",
   "metadata": {},
   "outputs": [],
   "source": [
    "def sq(x):\n",
    "    return x**2"
   ]
  },
  {
   "cell_type": "code",
   "execution_count": 7,
   "id": "1495d0c1",
   "metadata": {},
   "outputs": [
    {
     "data": {
      "text/plain": [
       "<map at 0x1dabfe29bd0>"
      ]
     },
     "execution_count": 7,
     "metadata": {},
     "output_type": "execute_result"
    }
   ],
   "source": [
    "map(sq , l)"
   ]
  },
  {
   "cell_type": "code",
   "execution_count": 9,
   "id": "0e598edd",
   "metadata": {},
   "outputs": [
    {
     "data": {
      "text/plain": [
       "[1, 4, 9, 16, 2025, 25]"
      ]
     },
     "execution_count": 9,
     "metadata": {},
     "output_type": "execute_result"
    }
   ],
   "source": [
    "list(map(sq, l))"
   ]
  },
  {
   "cell_type": "code",
   "execution_count": 10,
   "id": "aef547c9",
   "metadata": {},
   "outputs": [
    {
     "data": {
      "text/plain": [
       "[1, 4, 9, 16, 2025, 25]"
      ]
     },
     "execution_count": 10,
     "metadata": {},
     "output_type": "execute_result"
    }
   ],
   "source": [
    "list(map(lambda x: x**2,l))"
   ]
  },
  {
   "cell_type": "code",
   "execution_count": 11,
   "id": "5b594af9",
   "metadata": {},
   "outputs": [
    {
     "data": {
      "text/plain": [
       "[3, 4, 5, 6, 47, 7]"
      ]
     },
     "execution_count": 11,
     "metadata": {},
     "output_type": "execute_result"
    }
   ],
   "source": [
    "list(map(lambda x: x+2,l))"
   ]
  },
  {
   "cell_type": "code",
   "execution_count": 12,
   "id": "4c0a1c44",
   "metadata": {},
   "outputs": [
    {
     "data": {
      "text/plain": [
       "['1', '2', '3', '4', '45', '5']"
      ]
     },
     "execution_count": 12,
     "metadata": {},
     "output_type": "execute_result"
    }
   ],
   "source": [
    "list(map(lambda x: str(x),l))"
   ]
  },
  {
   "cell_type": "code",
   "execution_count": 13,
   "id": "12b5214d",
   "metadata": {},
   "outputs": [],
   "source": [
    "l1 = [1,2,3,4,5]\n",
    "l2 = [6,7,8,9,10]"
   ]
  },
  {
   "cell_type": "code",
   "execution_count": 14,
   "id": "f2c2057d",
   "metadata": {},
   "outputs": [
    {
     "data": {
      "text/plain": [
       "[7, 9, 11, 13, 15]"
      ]
     },
     "execution_count": 14,
     "metadata": {},
     "output_type": "execute_result"
    }
   ],
   "source": [
    "list(map(lambda x,y : x+y, l1,l2))"
   ]
  },
  {
   "cell_type": "code",
   "execution_count": 15,
   "id": "0cfe4265",
   "metadata": {},
   "outputs": [],
   "source": [
    "f=lambda x,y : x+y"
   ]
  },
  {
   "cell_type": "code",
   "execution_count": 16,
   "id": "dc5c0f0f",
   "metadata": {},
   "outputs": [
    {
     "data": {
      "text/plain": [
       "[7, 9, 11, 13, 15]"
      ]
     },
     "execution_count": 16,
     "metadata": {},
     "output_type": "execute_result"
    }
   ],
   "source": [
    "list(map(f, l1,l2))"
   ]
  },
  {
   "cell_type": "code",
   "execution_count": 17,
   "id": "4794221d",
   "metadata": {},
   "outputs": [],
   "source": [
    "s= \"snehan\""
   ]
  },
  {
   "cell_type": "code",
   "execution_count": 19,
   "id": "8f26a3cc",
   "metadata": {},
   "outputs": [
    {
     "data": {
      "text/plain": [
       "['S', 'N', 'E', 'H', 'A', 'N']"
      ]
     },
     "execution_count": 19,
     "metadata": {},
     "output_type": "execute_result"
    }
   ],
   "source": [
    "list(map(lambda x: x.upper(), s))"
   ]
  },
  {
   "cell_type": "markdown",
   "id": "0f808958",
   "metadata": {},
   "source": [
    "## REDUCE ##"
   ]
  },
  {
   "cell_type": "code",
   "execution_count": 20,
   "id": "cbb700f5",
   "metadata": {},
   "outputs": [],
   "source": [
    "from functools import reduce"
   ]
  },
  {
   "cell_type": "code",
   "execution_count": 21,
   "id": "d533534e",
   "metadata": {},
   "outputs": [],
   "source": [
    "l= [1,2,3,4,5,4] "
   ]
  },
  {
   "cell_type": "code",
   "execution_count": 22,
   "id": "85a9f5d9",
   "metadata": {},
   "outputs": [
    {
     "data": {
      "text/plain": [
       "19"
      ]
     },
     "execution_count": 22,
     "metadata": {},
     "output_type": "execute_result"
    }
   ],
   "source": [
    "reduce(lambda x, y : x+y,l)\n"
   ]
  },
  {
   "cell_type": "raw",
   "id": "188a263a",
   "metadata": {},
   "source": [
    "internally this is the behaviour of the function\n",
    "1   2   3   4   5   4\n",
    "|   |   |   |   |   |\n",
    "x   y   |   |   |   |\n",
    "\\   /   |   |   |   |\n",
    "  3     y   |   |   |\n",
    "  \\     /   |   |   |\n",
    "     x      y   |   |\n",
    "     6      /   |   |\n",
    "     \\     /    |   |\n",
    "         x      y   |\n",
    "         10     /   |\n",
    "          \\    /    |\n",
    "             x      y\n",
    "             15     /\n",
    "             \\     /\n",
    "                x\n",
    "                19"
   ]
  },
  {
   "cell_type": "code",
   "execution_count": 23,
   "id": "8929b5c1",
   "metadata": {},
   "outputs": [],
   "source": [
    "def add(x,y):\n",
    "    return x+y"
   ]
  },
  {
   "cell_type": "code",
   "execution_count": 24,
   "id": "2e442bde",
   "metadata": {},
   "outputs": [
    {
     "data": {
      "text/plain": [
       "19"
      ]
     },
     "execution_count": 24,
     "metadata": {},
     "output_type": "execute_result"
    }
   ],
   "source": [
    "reduce(add, l)"
   ]
  },
  {
   "cell_type": "code",
   "execution_count": 25,
   "id": "a619a13e",
   "metadata": {},
   "outputs": [
    {
     "ename": "TypeError",
     "evalue": "<lambda>() missing 1 required positional argument: 'z'",
     "output_type": "error",
     "traceback": [
      "\u001b[1;31m---------------------------------------------------------------------------\u001b[0m",
      "\u001b[1;31mTypeError\u001b[0m                                 Traceback (most recent call last)",
      "Cell \u001b[1;32mIn[25], line 1\u001b[0m\n\u001b[1;32m----> 1\u001b[0m \u001b[43mreduce\u001b[49m\u001b[43m(\u001b[49m\u001b[38;5;28;43;01mlambda\u001b[39;49;00m\u001b[43m \u001b[49m\u001b[43mx\u001b[49m\u001b[43m,\u001b[49m\u001b[43m \u001b[49m\u001b[43my\u001b[49m\u001b[43m,\u001b[49m\u001b[43m \u001b[49m\u001b[43mz\u001b[49m\u001b[43m \u001b[49m\u001b[43m:\u001b[49m\u001b[43m \u001b[49m\u001b[43mx\u001b[49m\u001b[38;5;241;43m+\u001b[39;49m\u001b[43my\u001b[49m\u001b[38;5;241;43m+\u001b[39;49m\u001b[43mz\u001b[49m\u001b[43m,\u001b[49m\u001b[43m \u001b[49m\u001b[43ml\u001b[49m\u001b[43m)\u001b[49m\n",
      "\u001b[1;31mTypeError\u001b[0m: <lambda>() missing 1 required positional argument: 'z'"
     ]
    }
   ],
   "source": [
    "reduce(lambda x, y, z : x+y+z, l)\n"
   ]
  },
  {
   "attachments": {
    "Screenshot%20Capture%20-%202023-06-27%20-%2021-40-40.png": {
     "image/png": "[encoded data removed]"
    }
   },
   "cell_type": "markdown",
   "id": "158e2df4",
   "metadata": {},
   "source": [
    "reduce is trying to collapse so it will always be able to find the next element if you have only two pair but when you are taking three in that case it might not find out always.\n",
    "\n",
    "so it is always better to use two argument with reduce function![Screenshot%20Capture%20-%202023-06-27%20-%2021-40-40.png](attachment:Screenshot%20Capture%20-%202023-06-27%20-%2021-40-40.png) "
   ]
  },
  {
   "cell_type": "code",
   "execution_count": 26,
   "id": "95b3e499",
   "metadata": {},
   "outputs": [
    {
     "data": {
      "text/plain": [
       "[1, 2, 3, 4, 5, 4]"
      ]
     },
     "execution_count": 26,
     "metadata": {},
     "output_type": "execute_result"
    }
   ],
   "source": [
    "l"
   ]
  },
  {
   "cell_type": "code",
   "execution_count": 33,
   "id": "c61a6e96",
   "metadata": {},
   "outputs": [
    {
     "ename": "TypeError",
     "evalue": "reduce() of empty iterable with no initial value",
     "output_type": "error",
     "traceback": [
      "\u001b[1;31m---------------------------------------------------------------------------\u001b[0m",
      "\u001b[1;31mTypeError\u001b[0m                                 Traceback (most recent call last)",
      "Cell \u001b[1;32mIn[33], line 1\u001b[0m\n\u001b[1;32m----> 1\u001b[0m \u001b[43mreduce\u001b[49m\u001b[43m(\u001b[49m\u001b[38;5;28;43;01mlambda\u001b[39;49;00m\u001b[43m \u001b[49m\u001b[43mx\u001b[49m\u001b[43m,\u001b[49m\u001b[43m \u001b[49m\u001b[43my\u001b[49m\u001b[43m \u001b[49m\u001b[43m:\u001b[49m\u001b[43m \u001b[49m\u001b[43mx\u001b[49m\u001b[38;5;241;43m+\u001b[39;49m\u001b[43my\u001b[49m\u001b[43m,\u001b[49m\u001b[43m \u001b[49m\u001b[43m[\u001b[49m\u001b[43m]\u001b[49m\u001b[43m)\u001b[49m\n",
      "\u001b[1;31mTypeError\u001b[0m: reduce() of empty iterable with no initial value"
     ]
    }
   ],
   "source": [
    "reduce(lambda x, y : x+y, [])"
   ]
  },
  {
   "cell_type": "code",
   "execution_count": 34,
   "id": "57a90191",
   "metadata": {},
   "outputs": [
    {
     "data": {
      "text/plain": [
       "1"
      ]
     },
     "execution_count": 34,
     "metadata": {},
     "output_type": "execute_result"
    }
   ],
   "source": [
    "#exceptional case\n",
    "reduce(lambda x, y, z : x+y, [1])"
   ]
  },
  {
   "cell_type": "code",
   "execution_count": 35,
   "id": "7b56404f",
   "metadata": {},
   "outputs": [
    {
     "data": {
      "text/plain": [
       "1"
      ]
     },
     "execution_count": 35,
     "metadata": {},
     "output_type": "execute_result"
    }
   ],
   "source": [
    "reduce(lambda x, y, z : x*y, [1])"
   ]
  },
  {
   "cell_type": "code",
   "execution_count": 36,
   "id": "e604d086",
   "metadata": {},
   "outputs": [
    {
     "data": {
      "text/plain": [
       "[1, 2, 3, 4, 5, 4]"
      ]
     },
     "execution_count": 36,
     "metadata": {},
     "output_type": "execute_result"
    }
   ],
   "source": [
    "l"
   ]
  },
  {
   "cell_type": "code",
   "execution_count": 37,
   "id": "75fb37b3",
   "metadata": {},
   "outputs": [
    {
     "data": {
      "text/plain": [
       "5"
      ]
     },
     "execution_count": 37,
     "metadata": {},
     "output_type": "execute_result"
    }
   ],
   "source": [
    "reduce(lambda x,y : x if x>y else y, l)"
   ]
  },
  {
   "cell_type": "markdown",
   "id": "147c9a73",
   "metadata": {},
   "source": [
    "## FILTER"
   ]
  },
  {
   "cell_type": "code",
   "execution_count": 39,
   "id": "b212f648",
   "metadata": {},
   "outputs": [
    {
     "data": {
      "text/plain": [
       "[1, 2, 3, 4, 5, 4]"
      ]
     },
     "execution_count": 39,
     "metadata": {},
     "output_type": "execute_result"
    }
   ],
   "source": [
    "l"
   ]
  },
  {
   "cell_type": "code",
   "execution_count": 41,
   "id": "7a607411",
   "metadata": {},
   "outputs": [
    {
     "data": {
      "text/plain": [
       "<filter at 0x1dabfe89c00>"
      ]
     },
     "execution_count": 41,
     "metadata": {},
     "output_type": "execute_result"
    }
   ],
   "source": [
    "filter(lambda x: x%2 == 0,l)"
   ]
  },
  {
   "cell_type": "code",
   "execution_count": 42,
   "id": "ba7ad41b",
   "metadata": {},
   "outputs": [
    {
     "data": {
      "text/plain": [
       "[2, 4, 4]"
      ]
     },
     "execution_count": 42,
     "metadata": {},
     "output_type": "execute_result"
    }
   ],
   "source": [
    "list(filter(lambda x: x%2 == 0,l))"
   ]
  },
  {
   "cell_type": "code",
   "execution_count": 43,
   "id": "60d26bbb",
   "metadata": {},
   "outputs": [
    {
     "data": {
      "text/plain": [
       "[1, 3, 5]"
      ]
     },
     "execution_count": 43,
     "metadata": {},
     "output_type": "execute_result"
    }
   ],
   "source": [
    "list(filter(lambda x: x%2 != 0,l))"
   ]
  },
  {
   "cell_type": "code",
   "execution_count": 49,
   "id": "0009c077",
   "metadata": {},
   "outputs": [],
   "source": [
    "l1=[-2,4,5,6,-3,-6,-7]"
   ]
  },
  {
   "cell_type": "code",
   "execution_count": 50,
   "id": "f1270113",
   "metadata": {},
   "outputs": [
    {
     "data": {
      "text/plain": [
       "[-2, -3, -6, -7]"
      ]
     },
     "execution_count": 50,
     "metadata": {},
     "output_type": "execute_result"
    }
   ],
   "source": [
    "list(filter(lambda x: x<0,l1))"
   ]
  },
  {
   "cell_type": "code",
   "execution_count": 51,
   "id": "1ad4781e",
   "metadata": {},
   "outputs": [
    {
     "data": {
      "text/plain": [
       "[4, 5, 6]"
      ]
     },
     "execution_count": 51,
     "metadata": {},
     "output_type": "execute_result"
    }
   ],
   "source": [
    "list(filter(lambda x: x>0,l1))"
   ]
  },
  {
   "cell_type": "code",
   "execution_count": 52,
   "id": "deb25965",
   "metadata": {},
   "outputs": [],
   "source": [
    "l2 = ['snehan',\"sahoo\",\"kumar\",\"odisha\",\"hello\"]"
   ]
  },
  {
   "cell_type": "code",
   "execution_count": 53,
   "id": "d725a765",
   "metadata": {},
   "outputs": [
    {
     "data": {
      "text/plain": [
       "['sahoo', 'kumar', 'hello']"
      ]
     },
     "execution_count": 53,
     "metadata": {},
     "output_type": "execute_result"
    }
   ],
   "source": [
    "list(filter(lambda x: len(x)<6,l2))"
   ]
  },
  {
   "cell_type": "code",
   "execution_count": null,
   "id": "025ce6db",
   "metadata": {},
   "outputs": [],
   "source": []
  },
  {
   "cell_type": "code",
   "execution_count": null,
   "id": "6d18f58e",
   "metadata": {},
   "outputs": [],
   "source": []
  }
 ],
 "metadata": {
  "kernelspec": {
   "display_name": "Python 3 (ipykernel)",
   "language": "python",
   "name": "python3"
  },
  "language_info": {
   "codemirror_mode": {
    "name": "ipython",
    "version": 3
   },
   "file_extension": ".py",
   "mimetype": "text/x-python",
   "name": "python",
   "nbconvert_exporter": "python",
   "pygments_lexer": "ipython3",
   "version": "3.10.9"
  }
 },
 "nbformat": 4,
 "nbformat_minor": 5
}
