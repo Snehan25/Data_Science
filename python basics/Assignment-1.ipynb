{
 "cells": [
  {
   "cell_type": "markdown",
   "id": "108276d4",
   "metadata": {},
   "source": [
    "# Q1 #"
   ]
  },
  {
   "cell_type": "code",
   "execution_count": 8,
   "id": "7f2072ee",
   "metadata": {},
   "outputs": [],
   "source": [
    "a=\"string\"\n",
    "b=[2,4,5,6,\"snehan\"]\n",
    "c= 24.56\n",
    "#tuple(immutable list)\n",
    "d=(1,2,3,4,\"snehan\")"
   ]
  },
  {
   "cell_type": "code",
   "execution_count": 2,
   "id": "26d75af9",
   "metadata": {},
   "outputs": [
    {
     "data": {
      "text/plain": [
       "'string'"
      ]
     },
     "execution_count": 2,
     "metadata": {},
     "output_type": "execute_result"
    }
   ],
   "source": [
    "a"
   ]
  },
  {
   "cell_type": "code",
   "execution_count": 3,
   "id": "dfe351c0",
   "metadata": {},
   "outputs": [
    {
     "data": {
      "text/plain": [
       "[2, 4, 5, 6, 'snehan']"
      ]
     },
     "execution_count": 3,
     "metadata": {},
     "output_type": "execute_result"
    }
   ],
   "source": [
    "b"
   ]
  },
  {
   "cell_type": "code",
   "execution_count": 4,
   "id": "9a5c62ba",
   "metadata": {},
   "outputs": [
    {
     "data": {
      "text/plain": [
       "24.56"
      ]
     },
     "execution_count": 4,
     "metadata": {},
     "output_type": "execute_result"
    }
   ],
   "source": [
    "c"
   ]
  },
  {
   "cell_type": "code",
   "execution_count": 11,
   "id": "cb3397f0",
   "metadata": {},
   "outputs": [
    {
     "data": {
      "text/plain": [
       "(1, 2, 3, 4, 'snehan')"
      ]
     },
     "execution_count": 11,
     "metadata": {},
     "output_type": "execute_result"
    }
   ],
   "source": [
    "d"
   ]
  },
  {
   "cell_type": "code",
   "execution_count": 16,
   "id": "9d09d496",
   "metadata": {},
   "outputs": [
    {
     "ename": "TypeError",
     "evalue": "'tuple' object does not support item assignment",
     "output_type": "error",
     "traceback": [
      "\u001b[1;31m---------------------------------------------------------------------------\u001b[0m",
      "\u001b[1;31mTypeError\u001b[0m                                 Traceback (most recent call last)",
      "Cell \u001b[1;32mIn[16], line 1\u001b[0m\n\u001b[1;32m----> 1\u001b[0m d[\u001b[38;5;241m1\u001b[39m]\u001b[38;5;241m=\u001b[39m\u001b[38;5;241m8\u001b[39m\n",
      "\u001b[1;31mTypeError\u001b[0m: 'tuple' object does not support item assignment"
     ]
    }
   ],
   "source": [
    "d[1]=8"
   ]
  },
  {
   "cell_type": "markdown",
   "id": "8c2cbf4b",
   "metadata": {},
   "source": [
    "immutable thats why error"
   ]
  },
  {
   "cell_type": "code",
   "execution_count": 14,
   "id": "c82a32ec",
   "metadata": {},
   "outputs": [],
   "source": [
    "b[1]=8"
   ]
  },
  {
   "cell_type": "code",
   "execution_count": 15,
   "id": "0801fa20",
   "metadata": {},
   "outputs": [
    {
     "data": {
      "text/plain": [
       "[2, 8, 5, 6, 'snehan']"
      ]
     },
     "execution_count": 15,
     "metadata": {},
     "output_type": "execute_result"
    }
   ],
   "source": [
    "b"
   ]
  },
  {
   "cell_type": "markdown",
   "id": "b39600d4",
   "metadata": {},
   "source": [
    "# Q2 #"
   ]
  },
  {
   "cell_type": "code",
   "execution_count": 24,
   "id": "70e824fd",
   "metadata": {},
   "outputs": [],
   "source": [
    "var1=''\n",
    "var2='[DS,ML,Python]'\n",
    "var3= ['DS','ML','Python']\n",
    "var4=1"
   ]
  },
  {
   "cell_type": "code",
   "execution_count": 25,
   "id": "a094c8b7",
   "metadata": {},
   "outputs": [
    {
     "data": {
      "text/plain": [
       "str"
      ]
     },
     "execution_count": 25,
     "metadata": {},
     "output_type": "execute_result"
    }
   ],
   "source": [
    "type(var1)\n"
   ]
  },
  {
   "cell_type": "code",
   "execution_count": 26,
   "id": "72bbcf1f",
   "metadata": {},
   "outputs": [
    {
     "data": {
      "text/plain": [
       "str"
      ]
     },
     "execution_count": 26,
     "metadata": {},
     "output_type": "execute_result"
    }
   ],
   "source": [
    "type(var2)\n"
   ]
  },
  {
   "cell_type": "code",
   "execution_count": 27,
   "id": "d778e436",
   "metadata": {},
   "outputs": [
    {
     "data": {
      "text/plain": [
       "list"
      ]
     },
     "execution_count": 27,
     "metadata": {},
     "output_type": "execute_result"
    }
   ],
   "source": [
    "type(var3)\n"
   ]
  },
  {
   "cell_type": "code",
   "execution_count": 28,
   "id": "745ba165",
   "metadata": {},
   "outputs": [
    {
     "data": {
      "text/plain": [
       "int"
      ]
     },
     "execution_count": 28,
     "metadata": {},
     "output_type": "execute_result"
    }
   ],
   "source": [
    "type(var4)"
   ]
  },
  {
   "cell_type": "markdown",
   "id": "d385becf",
   "metadata": {},
   "source": [
    "# Q3 #"
   ]
  },
  {
   "cell_type": "markdown",
   "id": "44d5068c",
   "metadata": {},
   "source": [
    "/ : division operator \n",
    "\n",
    "% : modulus operator(gives the remainder)\n",
    "\n",
    "// : division floor operation\n",
    "\n",
    "** : power operator"
   ]
  },
  {
   "cell_type": "code",
   "execution_count": 29,
   "id": "7e29dd60",
   "metadata": {},
   "outputs": [
    {
     "data": {
      "text/plain": [
       "1.3333333333333333"
      ]
     },
     "execution_count": 29,
     "metadata": {},
     "output_type": "execute_result"
    }
   ],
   "source": [
    "4/3"
   ]
  },
  {
   "cell_type": "code",
   "execution_count": 30,
   "id": "8c08fb2d",
   "metadata": {},
   "outputs": [
    {
     "data": {
      "text/plain": [
       "1"
      ]
     },
     "execution_count": 30,
     "metadata": {},
     "output_type": "execute_result"
    }
   ],
   "source": [
    "4%3"
   ]
  },
  {
   "cell_type": "code",
   "execution_count": 31,
   "id": "132ac052",
   "metadata": {},
   "outputs": [
    {
     "data": {
      "text/plain": [
       "1"
      ]
     },
     "execution_count": 31,
     "metadata": {},
     "output_type": "execute_result"
    }
   ],
   "source": [
    "4//3"
   ]
  },
  {
   "cell_type": "code",
   "execution_count": 32,
   "id": "041dd71c",
   "metadata": {},
   "outputs": [
    {
     "data": {
      "text/plain": [
       "64"
      ]
     },
     "execution_count": 32,
     "metadata": {},
     "output_type": "execute_result"
    }
   ],
   "source": [
    "4**3"
   ]
  },
  {
   "cell_type": "markdown",
   "id": "14ca3bd7",
   "metadata": {},
   "source": [
    "# Q4 #"
   ]
  },
  {
   "cell_type": "code",
   "execution_count": 52,
   "id": "678c0b92",
   "metadata": {},
   "outputs": [],
   "source": [
    "l = [1,2,3,4,5,6,\"snehan\",\"sahoo\",6+7j,'hello']"
   ]
  },
  {
   "cell_type": "code",
   "execution_count": 53,
   "id": "2838c47b",
   "metadata": {},
   "outputs": [
    {
     "name": "stdout",
     "output_type": "stream",
     "text": [
      "1\n",
      "<class 'int'>\n",
      "2\n",
      "<class 'int'>\n",
      "3\n",
      "<class 'int'>\n",
      "4\n",
      "<class 'int'>\n",
      "5\n",
      "<class 'int'>\n",
      "6\n",
      "<class 'int'>\n",
      "snehan\n",
      "<class 'str'>\n",
      "sahoo\n",
      "<class 'str'>\n",
      "(6+7j)\n",
      "<class 'complex'>\n",
      "hello\n",
      "<class 'str'>\n"
     ]
    }
   ],
   "source": [
    "for j in l :\n",
    "    print(j)\n",
    "    print(type(j))"
   ]
  },
  {
   "cell_type": "markdown",
   "id": "e6683360",
   "metadata": {},
   "source": [
    "# Q5 #   "
   ]
  },
  {
   "cell_type": "code",
   "execution_count": 46,
   "id": "f4ee80f2",
   "metadata": {},
   "outputs": [
    {
     "name": "stdout",
     "output_type": "stream",
     "text": [
      "Enter number A: 100\n",
      "Enter number B: 5\n",
      "Number A is divisible by number B and can be divided 2 times.\n"
     ]
    }
   ],
   "source": [
    "A = int(input(\"Enter number A: \"))\n",
    "B = int(input(\"Enter number B: \"))\n",
    "\n",
    "count = 0\n",
    "\n",
    "while A % B == 0:\n",
    "    A = A // B\n",
    "    count+=1\n",
    "\n",
    "if count > 0:\n",
    "    print(f\"Number A is divisible by number B and can be divided {count} times.\")\n",
    "else:\n",
    "    print(\"Number A is not divisible by number B.\")\n"
   ]
  },
  {
   "cell_type": "markdown",
   "id": "f1627e94",
   "metadata": {},
   "source": [
    "# Q6 #"
   ]
  },
  {
   "cell_type": "code",
   "execution_count": 61,
   "id": "7a0e5995",
   "metadata": {},
   "outputs": [
    {
     "data": {
      "text/plain": [
       "range(0, 26)"
      ]
     },
     "execution_count": 61,
     "metadata": {},
     "output_type": "execute_result"
    }
   ],
   "source": [
    "range(26)"
   ]
  },
  {
   "cell_type": "code",
   "execution_count": 65,
   "id": "e972a7f3",
   "metadata": {},
   "outputs": [
    {
     "ename": "TypeError",
     "evalue": "'list' object is not callable",
     "output_type": "error",
     "traceback": [
      "\u001b[1;31m---------------------------------------------------------------------------\u001b[0m",
      "\u001b[1;31mTypeError\u001b[0m                                 Traceback (most recent call last)",
      "Cell \u001b[1;32mIn[65], line 1\u001b[0m\n\u001b[1;32m----> 1\u001b[0m my_list \u001b[38;5;241m=\u001b[39m \u001b[38;5;28;43mlist\u001b[39;49m\u001b[43m(\u001b[49m\u001b[38;5;28;43mrange\u001b[39;49m\u001b[43m(\u001b[49m\u001b[38;5;241;43m0\u001b[39;49m\u001b[43m,\u001b[49m\u001b[43m \u001b[49m\u001b[38;5;241;43m26\u001b[39;49m\u001b[43m)\u001b[49m\u001b[43m)\u001b[49m\n\u001b[0;32m      2\u001b[0m \u001b[38;5;28mprint\u001b[39m(my_list)\n",
      "\u001b[1;31mTypeError\u001b[0m: 'list' object is not callable"
     ]
    }
   ],
   "source": [
    "my_list = list(range(0, 26))\n",
    "print(my_list)\n",
    "\n"
   ]
  },
  {
   "cell_type": "code",
   "execution_count": 74,
   "id": "165547a8",
   "metadata": {},
   "outputs": [
    {
     "name": "stdout",
     "output_type": "stream",
     "text": [
      "1 is not divisible by 3\n",
      "2 is not divisible by 3\n",
      "3 is divisible by 3\n",
      "4 is not divisible by 3\n",
      "5 is not divisible by 3\n",
      "6 is divisible by 3\n",
      "7 is not divisible by 3\n",
      "8 is not divisible by 3\n",
      "9 is divisible by 3\n",
      "10 is not divisible by 3\n",
      "11 is not divisible by 3\n",
      "12 is divisible by 3\n",
      "13 is not divisible by 3\n",
      "14 is not divisible by 3\n",
      "15 is divisible by 3\n",
      "16 is not divisible by 3\n",
      "17 is not divisible by 3\n",
      "18 is divisible by 3\n",
      "19 is not divisible by 3\n",
      "20 is not divisible by 3\n",
      "21 is divisible by 3\n",
      "22 is not divisible by 3\n",
      "23 is not divisible by 3\n",
      "24 is divisible by 3\n",
      "25 is not divisible by 3\n"
     ]
    }
   ],
   "source": [
    "#range func wasn't working thats why did it like this\n",
    "l = [1, 2, 3, 4, 5, 6, 7, 8, 9, 10, 11, 12, 13, 14, 15, 16, 17, 18, 19, 20, 21, 22, 23, 24, 25]\n",
    "\n",
    "for i in l:\n",
    "    if i % 3 == 0:\n",
    "        print(f\"{i} is divisible by 3\")\n",
    "    else:\n",
    "        print(f\"{i} is not divisible by 3\")\n"
   ]
  },
  {
   "cell_type": "markdown",
   "id": "ac081031",
   "metadata": {},
   "source": [
    "# Q7 #"
   ]
  },
  {
   "cell_type": "markdown",
   "id": "f62599aa",
   "metadata": {},
   "source": [
    "**mutability**:\n",
    "if you are able to change something at a particular indexes for a particular collection or data type that is called as mutability\n",
    "\n",
    "\n",
    "in case of **list** it is possible\n",
    "\n",
    "it is a mutable object.\n",
    "\n",
    "\n",
    "in case of **string** it is not possible \n",
    "\n",
    "it is an immmutable object."
   ]
  },
  {
   "cell_type": "markdown",
   "id": "0f91e891",
   "metadata": {},
   "source": [
    "#### example of mutable object ####"
   ]
  },
  {
   "cell_type": "code",
   "execution_count": 66,
   "id": "f8a8ec96",
   "metadata": {},
   "outputs": [],
   "source": [
    "l = [2,3,4,5,6,6,\"sudh\",'poopoolala',True, 4+7j]"
   ]
  },
  {
   "cell_type": "code",
   "execution_count": 67,
   "id": "15c21f8f",
   "metadata": {},
   "outputs": [
    {
     "data": {
      "text/plain": [
       "[2, 3, 4, 5, 6, 6, 'sudh', 'poopoolala', True, (4+7j)]"
      ]
     },
     "execution_count": 67,
     "metadata": {},
     "output_type": "execute_result"
    }
   ],
   "source": [
    "l"
   ]
  },
  {
   "cell_type": "code",
   "execution_count": 68,
   "id": "ad3f202d",
   "metadata": {},
   "outputs": [],
   "source": [
    "l[6] = 100"
   ]
  },
  {
   "cell_type": "code",
   "execution_count": 69,
   "id": "8731ba4c",
   "metadata": {},
   "outputs": [
    {
     "data": {
      "text/plain": [
       "[2, 3, 4, 5, 6, 6, 100, 'poopoolala', True, (4+7j)]"
      ]
     },
     "execution_count": 69,
     "metadata": {},
     "output_type": "execute_result"
    }
   ],
   "source": [
    "l"
   ]
  },
  {
   "cell_type": "markdown",
   "id": "86b2fd5e",
   "metadata": {},
   "source": [
    "#### example of immutable object ####"
   ]
  },
  {
   "cell_type": "code",
   "execution_count": 70,
   "id": "40b33304",
   "metadata": {},
   "outputs": [],
   "source": [
    "s = \"snehan\""
   ]
  },
  {
   "cell_type": "code",
   "execution_count": 71,
   "id": "59e718f7",
   "metadata": {},
   "outputs": [
    {
     "data": {
      "text/plain": [
       "'n'"
      ]
     },
     "execution_count": 71,
     "metadata": {},
     "output_type": "execute_result"
    }
   ],
   "source": [
    "s[1]"
   ]
  },
  {
   "cell_type": "code",
   "execution_count": 72,
   "id": "2a050bf0",
   "metadata": {},
   "outputs": [
    {
     "ename": "TypeError",
     "evalue": "'str' object does not support item assignment",
     "output_type": "error",
     "traceback": [
      "\u001b[1;31m---------------------------------------------------------------------------\u001b[0m",
      "\u001b[1;31mTypeError\u001b[0m                                 Traceback (most recent call last)",
      "Cell \u001b[1;32mIn[72], line 1\u001b[0m\n\u001b[1;32m----> 1\u001b[0m s[\u001b[38;5;241m1\u001b[39m] \u001b[38;5;241m=\u001b[39m a\n",
      "\u001b[1;31mTypeError\u001b[0m: 'str' object does not support item assignment"
     ]
    }
   ],
   "source": [
    "s[1] = a"
   ]
  },
  {
   "cell_type": "code",
   "execution_count": null,
   "id": "eae53893",
   "metadata": {},
   "outputs": [],
   "source": []
  }
 ],
 "metadata": {
  "kernelspec": {
   "display_name": "Python 3 (ipykernel)",
   "language": "python",
   "name": "python3"
  },
  "language_info": {
   "codemirror_mode": {
    "name": "ipython",
    "version": 3
   },
   "file_extension": ".py",
   "mimetype": "text/x-python",
   "name": "python",
   "nbconvert_exporter": "python",
   "pygments_lexer": "ipython3",
   "version": "3.10.9"
  }
 },
 "nbformat": 4,
 "nbformat_minor": 5
}
