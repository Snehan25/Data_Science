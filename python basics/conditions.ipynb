{
 "cells": [
  {
   "cell_type": "code",
   "execution_count": 1,
   "id": "511e93dc",
   "metadata": {},
   "outputs": [],
   "source": [
    "a = 10\n",
    "if a > 10 :\n",
    "    print(\"this will execute once a is greater than one\")\n"
   ]
  },
  {
   "cell_type": "code",
   "execution_count": 5,
   "id": "987ace53",
   "metadata": {},
   "outputs": [
    {
     "data": {
      "text/plain": [
       "False"
      ]
     },
     "execution_count": 5,
     "metadata": {},
     "output_type": "execute_result"
    }
   ],
   "source": [
    "a > 10"
   ]
  },
  {
   "cell_type": "code",
   "execution_count": 4,
   "id": "cb456a3c",
   "metadata": {},
   "outputs": [
    {
     "name": "stdout",
     "output_type": "stream",
     "text": [
      "this will execute once if will not be able to perform\n"
     ]
    }
   ],
   "source": [
    "a = 10\n",
    "if a > 10 :\n",
    "    print(\"this will execute once a is greater than one\")\n",
    "else :\n",
    "        print(\"this will execute once if will not be able to perform\")"
   ]
  },
  {
   "cell_type": "code",
   "execution_count": 6,
   "id": "7e70e0e5",
   "metadata": {},
   "outputs": [
    {
     "name": "stdout",
     "output_type": "stream",
     "text": [
      "this is trying to check a condition for a where a could be 10 or lesser\n"
     ]
    }
   ],
   "source": [
    "if a > 10 :\n",
    "    print(\"this will execute once a is greater than one\")\n",
    "elif a<= 10 :\n",
    "    print(\"this is trying to check a condition for a where a could be 10 or lesser\")\n",
    "        \n",
    "else :\n",
    "        print(\"this will execute once if will not be able to perform\")"
   ]
  },
  {
   "cell_type": "code",
   "execution_count": 10,
   "id": "c0148950",
   "metadata": {
    "scrolled": true
   },
   "outputs": [
    {
     "name": "stdout",
     "output_type": "stream",
     "text": [
      "enter a value for a: 2\n",
      "this is trying to check a condition for a where a could be 10 or lesser\n"
     ]
    }
   ],
   "source": [
    "a = int(input(\"enter a value for a: \"))\n",
    "if a > 10 :\n",
    "    print(\"this will execute once a is greater than one\")\n",
    "elif a<= 10 :\n",
    "    print(\"this is trying to check a condition for a where a could be 10 or lesser\")\n",
    "        \n",
    "else :\n",
    "        print(\"this will execute once if will not be able to perform\")"
   ]
  },
  {
   "cell_type": "code",
   "execution_count": 11,
   "id": "99b39ac9",
   "metadata": {},
   "outputs": [
    {
     "name": "stdout",
     "output_type": "stream",
     "text": [
      "1\n",
      "2\n",
      "3\n",
      "4\n",
      "5\n",
      "6\n",
      "7\n",
      "8\n",
      "9\n"
     ]
    }
   ],
   "source": [
    "n = 10\n",
    "i = 1\n",
    "\n",
    "while i < n:\n",
    "    print(i)\n",
    "    i = i+1"
   ]
  },
  {
   "cell_type": "code",
   "execution_count": 12,
   "id": "197dfd3a",
   "metadata": {},
   "outputs": [
    {
     "name": "stdout",
     "output_type": "stream",
     "text": [
      "1\n",
      "2\n",
      "3\n",
      "4\n",
      "5\n",
      "6\n",
      "7\n",
      "8\n",
      "9\n",
      "this will be executed once while will complete it successfully\n"
     ]
    }
   ],
   "source": [
    "n = 10\n",
    "i = 1\n",
    "\n",
    "while i < n:\n",
    "    print(i)\n",
    "    i = i+1\n",
    "else : \n",
    "    print(\"this will be executed once while will complete it successfully\")"
   ]
  },
  {
   "cell_type": "code",
   "execution_count": 15,
   "id": "07e8bcce",
   "metadata": {},
   "outputs": [
    {
     "name": "stdout",
     "output_type": "stream",
     "text": [
      "1\n",
      "2\n"
     ]
    }
   ],
   "source": [
    "n = 10\n",
    "i = 1\n",
    "\n",
    "while i < n:\n",
    "    print(i)\n",
    "    i = i+1\n",
    "    if i == 3 :\n",
    "        break\n",
    "else : \n",
    "    print(\"this will be executed once while will complete it successfully\")"
   ]
  },
  {
   "cell_type": "markdown",
   "id": "d5c2d835",
   "metadata": {},
   "source": [
    "else block will only be excecuted only when the while block is fully completed since it was interrupted using break while is incomplete therefore else will also not print"
   ]
  },
  {
   "cell_type": "code",
   "execution_count": 25,
   "id": "95102e60",
   "metadata": {},
   "outputs": [
    {
     "name": "stdout",
     "output_type": "stream",
     "text": [
      "1\n",
      "2\n",
      "3\n",
      "4\n",
      "5\n",
      "6\n",
      "7\n",
      "8\n",
      "9\n",
      "this will be executed once while will complete it successfully\n"
     ]
    }
   ],
   "source": [
    "n = 10\n",
    "i = 1\n",
    "\n",
    "while i < n:\n",
    "    print(i)\n",
    "    i = i+1\n",
    "    if i == 3 :\n",
    "        continue\n",
    "   \n",
    "else : \n",
    "    print(\"this will be executed once while will complete it successfully\")"
   ]
  },
  {
   "cell_type": "code",
   "execution_count": 24,
   "id": "dda4575f",
   "metadata": {},
   "outputs": [
    {
     "name": "stdout",
     "output_type": "stream",
     "text": [
      "2\n",
      "4\n",
      "5\n",
      "6\n",
      "7\n",
      "8\n",
      "9\n",
      "10\n",
      "this will be executed once while will complete it successfully\n"
     ]
    }
   ],
   "source": [
    "n = 10\n",
    "i = 1\n",
    "\n",
    "while i < n:\n",
    "\n",
    "    i = i+1\n",
    "    if i == 3 :\n",
    "        continue\n",
    "    print(i)\n",
    "else : \n",
    "    print(\"this will be executed once while will complete it successfully\")"
   ]
  },
  {
   "cell_type": "code",
   "execution_count": 26,
   "id": "87b9279f",
   "metadata": {},
   "outputs": [],
   "source": [
    "s = \"snehan\""
   ]
  },
  {
   "cell_type": "code",
   "execution_count": 27,
   "id": "73a22331",
   "metadata": {},
   "outputs": [
    {
     "name": "stdout",
     "output_type": "stream",
     "text": [
      "s\n",
      "n\n",
      "e\n",
      "h\n",
      "a\n",
      "n\n"
     ]
    }
   ],
   "source": [
    "for i in s :\n",
    "    print(i)"
   ]
  },
  {
   "cell_type": "code",
   "execution_count": 28,
   "id": "8ea0e4cd",
   "metadata": {},
   "outputs": [],
   "source": [
    "l = [34,35,26,\"snehan\", True, 5-8j]"
   ]
  },
  {
   "cell_type": "code",
   "execution_count": 31,
   "id": "6f375d3d",
   "metadata": {},
   "outputs": [
    {
     "name": "stdout",
     "output_type": "stream",
     "text": [
      "34\n",
      "35\n",
      "26\n",
      "snehan\n",
      "True\n",
      "(5-8j)\n"
     ]
    }
   ],
   "source": [
    "for j in l :\n",
    "    print(j)"
   ]
  },
  {
   "cell_type": "code",
   "execution_count": 33,
   "id": "489c9e95",
   "metadata": {},
   "outputs": [
    {
     "name": "stdout",
     "output_type": "stream",
     "text": [
      "34\n",
      "35\n",
      "26\n",
      "snehan\n",
      "True\n",
      "(5-8j)\n",
      "this will be executed once for loop will complete itself successfully\n"
     ]
    }
   ],
   "source": [
    "for j in l :\n",
    "    print(j)\n",
    "else :\n",
    "        print(\"this will be executed once for loop will complete itself successfully\")"
   ]
  },
  {
   "cell_type": "code",
   "execution_count": 34,
   "id": "bef2290d",
   "metadata": {},
   "outputs": [
    {
     "name": "stdout",
     "output_type": "stream",
     "text": [
      "34\n",
      "35\n",
      "26\n",
      "snehan\n"
     ]
    }
   ],
   "source": [
    "for j in l :\n",
    "    print(j)\n",
    "    if j == \"snehan\" :\n",
    "        break\n",
    "else :\n",
    "        print(\"this will be executed once for loop will complete itself successfully\")"
   ]
  },
  {
   "cell_type": "code",
   "execution_count": 35,
   "id": "326a620f",
   "metadata": {},
   "outputs": [
    {
     "data": {
      "text/plain": [
       "range(0, 10)"
      ]
     },
     "execution_count": 35,
     "metadata": {},
     "output_type": "execute_result"
    }
   ],
   "source": [
    "range(10)"
   ]
  },
  {
   "cell_type": "code",
   "execution_count": 36,
   "id": "71ee1407",
   "metadata": {},
   "outputs": [
    {
     "data": {
      "text/plain": [
       "[0, 1, 2, 3, 4, 5, 6, 7, 8, 9]"
      ]
     },
     "execution_count": 36,
     "metadata": {},
     "output_type": "execute_result"
    }
   ],
   "source": [
    "list(range(10))"
   ]
  },
  {
   "cell_type": "code",
   "execution_count": 37,
   "id": "2a36f3c4",
   "metadata": {},
   "outputs": [
    {
     "data": {
      "text/plain": [
       "[1, 2, 3, 4, 5]"
      ]
     },
     "execution_count": 37,
     "metadata": {},
     "output_type": "execute_result"
    }
   ],
   "source": [
    "list(range(1,6))"
   ]
  },
  {
   "cell_type": "code",
   "execution_count": null,
   "id": "654da540",
   "metadata": {},
   "outputs": [],
   "source": []
  },
  {
   "cell_type": "code",
   "execution_count": null,
   "id": "1cdf79cd",
   "metadata": {},
   "outputs": [],
   "source": []
  }
 ],
 "metadata": {
  "kernelspec": {
   "display_name": "Python 3 (ipykernel)",
   "language": "python",
   "name": "python3"
  },
  "language_info": {
   "codemirror_mode": {
    "name": "ipython",
    "version": 3
   },
   "file_extension": ".py",
   "mimetype": "text/x-python",
   "name": "python",
   "nbconvert_exporter": "python",
   "pygments_lexer": "ipython3",
   "version": "3.10.9"
  }
 },
 "nbformat": 4,
 "nbformat_minor": 5
}
