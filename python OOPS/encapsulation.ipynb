{
 "cells": [
  {
   "cell_type": "code",
   "execution_count": 5,
   "id": "881edc7f",
   "metadata": {},
   "outputs": [],
   "source": [
    "class test :\n",
    "    #pass a data to the class    \n",
    "    def __init__(self, a,b):\n",
    "        self.a = a\n",
    "        self.b = b"
   ]
  },
  {
   "cell_type": "code",
   "execution_count": 6,
   "id": "eda1ca3a",
   "metadata": {},
   "outputs": [],
   "source": [
    "t=test(45,56)"
   ]
  },
  {
   "cell_type": "code",
   "execution_count": 7,
   "id": "c0c90df7",
   "metadata": {},
   "outputs": [
    {
     "data": {
      "text/plain": [
       "45"
      ]
     },
     "execution_count": 7,
     "metadata": {},
     "output_type": "execute_result"
    }
   ],
   "source": [
    "t.a"
   ]
  },
  {
   "attachments": {
    "image.png": {
     "image/png": "[encoded data removed]"
    }
   },
   "cell_type": "markdown",
   "id": "9ee534af",
   "metadata": {},
   "source": [
    "![image.png](attachment:image.png)\n",
    "in this t object if you press tab you will see pop up"
   ]
  },
  {
   "cell_type": "code",
   "execution_count": 8,
   "id": "424cd20c",
   "metadata": {},
   "outputs": [
    {
     "data": {
      "text/plain": [
       "56"
      ]
     },
     "execution_count": 8,
     "metadata": {},
     "output_type": "execute_result"
    }
   ],
   "source": [
    "t.b"
   ]
  },
  {
   "cell_type": "code",
   "execution_count": 9,
   "id": "bc8e6a55",
   "metadata": {},
   "outputs": [],
   "source": [
    "#we are able to access and assign \n",
    "t.a = 3243"
   ]
  },
  {
   "cell_type": "code",
   "execution_count": 10,
   "id": "4fa6a1eb",
   "metadata": {},
   "outputs": [
    {
     "data": {
      "text/plain": [
       "3243"
      ]
     },
     "execution_count": 10,
     "metadata": {},
     "output_type": "execute_result"
    }
   ],
   "source": [
    "t.a"
   ]
  },
  {
   "cell_type": "code",
   "execution_count": 30,
   "id": "3e2f8bd8",
   "metadata": {},
   "outputs": [],
   "source": [
    "class car:\n",
    "    def __init__(self, year, make, model, speed) :\n",
    "        self.__year = year\n",
    "        self.__make = make\n",
    "        self.__model = model\n",
    "        self.__speed = 0 \n",
    "    \n",
    "    "
   ]
  },
  {
   "cell_type": "code",
   "execution_count": 12,
   "id": "b77916cc",
   "metadata": {},
   "outputs": [],
   "source": [
    "obj_car = car(2021, \"toyota\", \"supra\", 12 )"
   ]
  },
  {
   "cell_type": "code",
   "execution_count": null,
   "id": "1e457dab",
   "metadata": {},
   "outputs": [],
   "source": [
    "obj.car"
   ]
  },
  {
   "cell_type": "markdown",
   "id": "bc336727",
   "metadata": {},
   "source": [
    "but here pressing tab you won't see any kind of popup\n",
    "beacause the above variable a and b is public whereas these variables are private "
   ]
  },
  {
   "cell_type": "code",
   "execution_count": 13,
   "id": "21c48bc7",
   "metadata": {},
   "outputs": [
    {
     "ename": "AttributeError",
     "evalue": "'car' object has no attribute '__year'",
     "output_type": "error",
     "traceback": [
      "\u001b[1;31m---------------------------------------------------------------------------\u001b[0m",
      "\u001b[1;31mAttributeError\u001b[0m                            Traceback (most recent call last)",
      "Cell \u001b[1;32mIn[13], line 1\u001b[0m\n\u001b[1;32m----> 1\u001b[0m \u001b[43mobj_car\u001b[49m\u001b[38;5;241;43m.\u001b[39;49m\u001b[43m__year\u001b[49m\n",
      "\u001b[1;31mAttributeError\u001b[0m: 'car' object has no attribute '__year'"
     ]
    }
   ],
   "source": [
    "obj_car.__year"
   ]
  },
  {
   "cell_type": "code",
   "execution_count": 14,
   "id": "492edcb9",
   "metadata": {},
   "outputs": [
    {
     "data": {
      "text/plain": [
       "2021"
      ]
     },
     "execution_count": 14,
     "metadata": {},
     "output_type": "execute_result"
    }
   ],
   "source": [
    "obj_car._car__year"
   ]
  },
  {
   "cell_type": "code",
   "execution_count": 16,
   "id": "875d6697",
   "metadata": {},
   "outputs": [],
   "source": [
    "obj_car._car__year = 2023"
   ]
  },
  {
   "cell_type": "code",
   "execution_count": 17,
   "id": "5aae29b0",
   "metadata": {},
   "outputs": [
    {
     "data": {
      "text/plain": [
       "2023"
      ]
     },
     "execution_count": 17,
     "metadata": {},
     "output_type": "execute_result"
    }
   ],
   "source": [
    "obj_car._car__year"
   ]
  },
  {
   "cell_type": "markdown",
   "id": "2182ada3",
   "metadata": {},
   "source": [
    "as a creator of the class you will able to access it as you know the variables but any outsider wont be able to know what variables it contain and wont be a able to access it.\n",
    "hiding the entire implementation of class variables\n",
    "this is encapsulation"
   ]
  },
  {
   "cell_type": "markdown",
   "id": "138c12fe",
   "metadata": {},
   "source": [
    "if you want to give access you can create a function"
   ]
  },
  {
   "cell_type": "code",
   "execution_count": 52,
   "id": "265cc6b0",
   "metadata": {},
   "outputs": [],
   "source": [
    "class car:\n",
    "    \n",
    "    def __init__(self, year, make, model, speed) :\n",
    "        self.__year = year\n",
    "        self.__make = make\n",
    "        self.__model = model\n",
    "        self.__speed = 0 \n",
    "        \n",
    "    def set_speed(self, speed):\n",
    "        self.__speed = 0 if speed < 0 else speed\n",
    "        "
   ]
  },
  {
   "cell_type": "code",
   "execution_count": 53,
   "id": "302fb1d2",
   "metadata": {},
   "outputs": [],
   "source": [
    "obj_car = car(2023, \"Toyota\", \"Camry\", 0)\n"
   ]
  },
  {
   "cell_type": "code",
   "execution_count": 57,
   "id": "144419f2",
   "metadata": {},
   "outputs": [],
   "source": [
    "obj_car.set_speed(-1234)"
   ]
  },
  {
   "cell_type": "code",
   "execution_count": 59,
   "id": "b936389d",
   "metadata": {},
   "outputs": [],
   "source": [
    "obj_car.set_speed(1234)"
   ]
  },
  {
   "cell_type": "code",
   "execution_count": 60,
   "id": "c10ca16a",
   "metadata": {},
   "outputs": [
    {
     "data": {
      "text/plain": [
       "1234"
      ]
     },
     "execution_count": 60,
     "metadata": {},
     "output_type": "execute_result"
    }
   ],
   "source": [
    "obj_car._car__speed"
   ]
  },
  {
   "cell_type": "markdown",
   "id": "7684889c",
   "metadata": {},
   "source": [
    " obj_car._car__speed ->as a creater you know speed variable exist but an outsider will not be able to access it except set speed so for that we use get"
   ]
  },
  {
   "cell_type": "code",
   "execution_count": 63,
   "id": "fbe2455e",
   "metadata": {},
   "outputs": [],
   "source": [
    "class car:\n",
    "    \n",
    "    def __init__(self, year, make, model, speed) :\n",
    "        self.__year = year\n",
    "        self.__make = make\n",
    "        self.__model = model\n",
    "        self.__speed = 0 \n",
    "        \n",
    "    def set_speed(self, speed):\n",
    "        self.__speed = 0 if speed < 0 else speed\n",
    "        \n",
    "    def get_speed(self) :\n",
    "        return self.__speed\n",
    "        "
   ]
  },
  {
   "cell_type": "code",
   "execution_count": 73,
   "id": "586b1340",
   "metadata": {},
   "outputs": [],
   "source": [
    "obj_car = car(2023, \"Toyota\", \"Camry\", 0)\n",
    "obj_car.set_speed(1234)"
   ]
  },
  {
   "cell_type": "code",
   "execution_count": 74,
   "id": "5746bbbc",
   "metadata": {},
   "outputs": [
    {
     "data": {
      "text/plain": [
       "1234"
      ]
     },
     "execution_count": 74,
     "metadata": {},
     "output_type": "execute_result"
    }
   ],
   "source": [
    "obj_car.get_speed()"
   ]
  },
  {
   "cell_type": "code",
   "execution_count": 139,
   "id": "c0cf9b96",
   "metadata": {},
   "outputs": [],
   "source": [
    "class bank_account:\n",
    "    \n",
    "    def __init__(self, balance):\n",
    "        self.__balance = balance\n",
    "        \n",
    "    def deposit(self, amount):\n",
    "        self.__balance = self.__balance + amount\n",
    "\n",
    "    def withdraw(self, amount):\n",
    "        if self.__balance >= amount:\n",
    "            self.__balance = self.__balance - amount\n",
    "            return True\n",
    "        else:\n",
    "            return False\n",
    "\n",
    "    def get_balance(self):\n",
    "        return self.__balance\n",
    "\n",
    "        \n",
    "        "
   ]
  },
  {
   "cell_type": "code",
   "execution_count": 140,
   "id": "90b93015",
   "metadata": {},
   "outputs": [],
   "source": [
    "obj_bank_account = bank_account(1000)\n"
   ]
  },
  {
   "cell_type": "code",
   "execution_count": 141,
   "id": "87c6616d",
   "metadata": {},
   "outputs": [
    {
     "data": {
      "text/plain": [
       "1000"
      ]
     },
     "execution_count": 141,
     "metadata": {},
     "output_type": "execute_result"
    }
   ],
   "source": [
    "obj_bank_account.get_balance()"
   ]
  },
  {
   "cell_type": "code",
   "execution_count": 142,
   "id": "8fa74ba1",
   "metadata": {},
   "outputs": [],
   "source": [
    "obj_bank_account.deposit(100)"
   ]
  },
  {
   "cell_type": "code",
   "execution_count": 143,
   "id": "97650915",
   "metadata": {},
   "outputs": [
    {
     "data": {
      "text/plain": [
       "1100"
      ]
     },
     "execution_count": 143,
     "metadata": {},
     "output_type": "execute_result"
    }
   ],
   "source": [
    "obj_bank_account.get_balance()"
   ]
  },
  {
   "cell_type": "code",
   "execution_count": 144,
   "id": "215b1888",
   "metadata": {},
   "outputs": [
    {
     "data": {
      "text/plain": [
       "False"
      ]
     },
     "execution_count": 144,
     "metadata": {},
     "output_type": "execute_result"
    }
   ],
   "source": [
    "obj_bank_account.withdraw(6000)"
   ]
  },
  {
   "cell_type": "code",
   "execution_count": 145,
   "id": "6b97518c",
   "metadata": {},
   "outputs": [
    {
     "data": {
      "text/plain": [
       "True"
      ]
     },
     "execution_count": 145,
     "metadata": {},
     "output_type": "execute_result"
    }
   ],
   "source": [
    "obj_bank_account.withdraw(1000)"
   ]
  },
  {
   "cell_type": "code",
   "execution_count": 147,
   "id": "b0576f95",
   "metadata": {},
   "outputs": [
    {
     "data": {
      "text/plain": [
       "100"
      ]
     },
     "execution_count": 147,
     "metadata": {},
     "output_type": "execute_result"
    }
   ],
   "source": [
    "obj_bank_account.get_balance()"
   ]
  },
  {
   "cell_type": "code",
   "execution_count": null,
   "id": "e31c547e",
   "metadata": {},
   "outputs": [],
   "source": []
  }
 ],
 "metadata": {
  "kernelspec": {
   "display_name": "Python 3 (ipykernel)",
   "language": "python",
   "name": "python3"
  },
  "language_info": {
   "codemirror_mode": {
    "name": "ipython",
    "version": 3
   },
   "file_extension": ".py",
   "mimetype": "text/x-python",
   "name": "python",
   "nbconvert_exporter": "python",
   "pygments_lexer": "ipython3",
   "version": "3.10.9"
  }
 },
 "nbformat": 4,
 "nbformat_minor": 5
}
