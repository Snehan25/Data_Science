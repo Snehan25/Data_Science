{
 "cells": [
  {
   "cell_type": "code",
   "execution_count": 2,
   "id": "58f49d65",
   "metadata": {},
   "outputs": [
    {
     "name": "stdout",
     "output_type": "stream",
     "text": [
      "my age is: 32\n"
     ]
    }
   ],
   "source": [
    "age = 32\n",
    "print(\"my age is:\",age)"
   ]
  },
  {
   "cell_type": "code",
   "execution_count": 5,
   "id": "8147ce76",
   "metadata": {},
   "outputs": [
    {
     "name": "stdout",
     "output_type": "stream",
     "text": [
      "my age is: {age}\n",
      "my age is: 32\n"
     ]
    }
   ],
   "source": [
    "# f string is used for formatting\n",
    "print(\"my age is: {age}\")\n",
    "print(f\"my age is: {age}\")"
   ]
  },
  {
   "cell_type": "code",
   "execution_count": 12,
   "id": "6da8e478",
   "metadata": {},
   "outputs": [
    {
     "name": "stdout",
     "output_type": "stream",
     "text": [
      "my name is snehan and age is 19\n"
     ]
    }
   ],
   "source": [
    "#format()\n",
    "name = \"snehan\"\n",
    "age = 19\n",
    "print(\"my name is {} and age is {}\".format(name,age))"
   ]
  },
  {
   "cell_type": "code",
   "execution_count": 11,
   "id": "c83357cd",
   "metadata": {},
   "outputs": [
    {
     "name": "stdout",
     "output_type": "stream",
     "text": [
      "my name is 19 and age is snehan\n"
     ]
    }
   ],
   "source": [
    "print(\"my name is {} and age is {}\".format(age,name))"
   ]
  },
  {
   "cell_type": "markdown",
   "id": "019f6709",
   "metadata": {},
   "source": [
    "this shows format follows sequential pattern"
   ]
  },
  {
   "cell_type": "code",
   "execution_count": 10,
   "id": "349eb175",
   "metadata": {},
   "outputs": [
    {
     "name": "stdout",
     "output_type": "stream",
     "text": [
      "my name is snehan and age is 19\n"
     ]
    }
   ],
   "source": [
    "#placeholder\n",
    "print(\"my name is {firstname} and age is {firstage}\".format(firstname=name,firstage=age))"
   ]
  },
  {
   "cell_type": "code",
   "execution_count": 13,
   "id": "017697ac",
   "metadata": {},
   "outputs": [
    {
     "name": "stdout",
     "output_type": "stream",
     "text": [
      "my name is snehan and age is 19\n"
     ]
    }
   ],
   "source": [
    "print(\"my name is {firstname} and age is {firstage}\".format(firstage=age,firstname=name))"
   ]
  },
  {
   "cell_type": "code",
   "execution_count": 14,
   "id": "535e01a9",
   "metadata": {},
   "outputs": [],
   "source": [
    "name = \"snehan sahoo\"\n",
    "age= 19\n",
    "degree= \"BTECH\""
   ]
  },
  {
   "cell_type": "code",
   "execution_count": 16,
   "id": "e6a99a79",
   "metadata": {},
   "outputs": [
    {
     "name": "stdout",
     "output_type": "stream",
     "text": [
      "my age is 19 and i have completed my degree of BTECH with the name of snehan sahoo\n"
     ]
    }
   ],
   "source": [
    "print(f\"my age is {age} and i have completed my degree of {degree} with the name of {name}\")"
   ]
  },
  {
   "cell_type": "code",
   "execution_count": 17,
   "id": "c34f7791",
   "metadata": {},
   "outputs": [
    {
     "name": "stdout",
     "output_type": "stream",
     "text": [
      "my age is 19 and i have completed my degree of BTECH with the name of snehan sahoo\n"
     ]
    }
   ],
   "source": [
    "print(\"my age is {age1} and i have completed my degree of {degree1} with the name of {name1}\".format(age1=age,degree1=degree,name1=name))"
   ]
  }
 ],
 "metadata": {
  "kernelspec": {
   "display_name": "Python 3 (ipykernel)",
   "language": "python",
   "name": "python3"
  },
  "language_info": {
   "codemirror_mode": {
    "name": "ipython",
    "version": 3
   },
   "file_extension": ".py",
   "mimetype": "text/x-python",
   "name": "python",
   "nbconvert_exporter": "python",
   "pygments_lexer": "ipython3",
   "version": "3.10.9"
  }
 },
 "nbformat": 4,
 "nbformat_minor": 5
}
