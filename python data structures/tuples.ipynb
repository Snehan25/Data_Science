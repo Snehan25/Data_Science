{
 "cells": [
  {
   "cell_type": "code",
   "execution_count": 1,
   "id": "07eb7159",
   "metadata": {},
   "outputs": [],
   "source": [
    "t=()"
   ]
  },
  {
   "cell_type": "code",
   "execution_count": 2,
   "id": "7be90d60",
   "metadata": {},
   "outputs": [
    {
     "data": {
      "text/plain": [
       "tuple"
      ]
     },
     "execution_count": 2,
     "metadata": {},
     "output_type": "execute_result"
    }
   ],
   "source": [
    "type(t)"
   ]
  },
  {
   "cell_type": "code",
   "execution_count": 33,
   "id": "f8e09180",
   "metadata": {},
   "outputs": [],
   "source": [
    "t1=(1,2,3,4,5,56,67,67.67,45+7j,\"snehan\", True)"
   ]
  },
  {
   "cell_type": "code",
   "execution_count": 4,
   "id": "cc1e6417",
   "metadata": {},
   "outputs": [
    {
     "data": {
      "text/plain": [
       "tuple"
      ]
     },
     "execution_count": 4,
     "metadata": {},
     "output_type": "execute_result"
    }
   ],
   "source": [
    "type(t1)"
   ]
  },
  {
   "cell_type": "code",
   "execution_count": 5,
   "id": "947f7fa8",
   "metadata": {},
   "outputs": [],
   "source": [
    "l=[1,2,3,4]"
   ]
  },
  {
   "cell_type": "code",
   "execution_count": 6,
   "id": "49caeb50",
   "metadata": {},
   "outputs": [
    {
     "data": {
      "text/plain": [
       "list"
      ]
     },
     "execution_count": 6,
     "metadata": {},
     "output_type": "execute_result"
    }
   ],
   "source": [
    "type(l)"
   ]
  },
  {
   "cell_type": "code",
   "execution_count": 20,
   "id": "c3be49f2",
   "metadata": {},
   "outputs": [
    {
     "data": {
      "text/plain": [
       "(1, 2, 3, 4, 5, 56, 67, 67.67, (45+7j), 'snehan', True)"
      ]
     },
     "execution_count": 20,
     "metadata": {},
     "output_type": "execute_result"
    }
   ],
   "source": [
    "t1\n"
   ]
  },
  {
   "cell_type": "code",
   "execution_count": 9,
   "id": "105c6ee4",
   "metadata": {},
   "outputs": [
    {
     "data": {
      "text/plain": [
       "2"
      ]
     },
     "execution_count": 9,
     "metadata": {},
     "output_type": "execute_result"
    }
   ],
   "source": [
    "t1[1]"
   ]
  },
  {
   "cell_type": "code",
   "execution_count": 10,
   "id": "9a12b89c",
   "metadata": {},
   "outputs": [
    {
     "data": {
      "text/plain": [
       "1"
      ]
     },
     "execution_count": 10,
     "metadata": {},
     "output_type": "execute_result"
    }
   ],
   "source": [
    "t1[0]"
   ]
  },
  {
   "cell_type": "code",
   "execution_count": 11,
   "id": "361b40a4",
   "metadata": {},
   "outputs": [
    {
     "data": {
      "text/plain": [
       "67.67"
      ]
     },
     "execution_count": 11,
     "metadata": {},
     "output_type": "execute_result"
    }
   ],
   "source": [
    "t1[7]"
   ]
  },
  {
   "cell_type": "code",
   "execution_count": 38,
   "id": "3548e001",
   "metadata": {},
   "outputs": [
    {
     "data": {
      "text/plain": [
       "(True, 'snehan', (45+7j), 67.67, 67, 56, 5, 4, 3, 2, 1)"
      ]
     },
     "execution_count": 38,
     "metadata": {},
     "output_type": "execute_result"
    }
   ],
   "source": [
    "t1[::-1]"
   ]
  },
  {
   "cell_type": "code",
   "execution_count": 39,
   "id": "854b3dfe",
   "metadata": {},
   "outputs": [],
   "source": [
    "t1=t1[::-1]"
   ]
  },
  {
   "cell_type": "code",
   "execution_count": 40,
   "id": "9f3c3bf7",
   "metadata": {},
   "outputs": [
    {
     "data": {
      "text/plain": [
       "(True, 'snehan', (45+7j), 67.67, 67, 56, 5, 4, 3, 2, 1)"
      ]
     },
     "execution_count": 40,
     "metadata": {},
     "output_type": "execute_result"
    }
   ],
   "source": [
    "t1"
   ]
  },
  {
   "cell_type": "code",
   "execution_count": 41,
   "id": "7a47eb4c",
   "metadata": {},
   "outputs": [
    {
     "data": {
      "text/plain": [
       "(True, 'snehan', (45+7j))"
      ]
     },
     "execution_count": 41,
     "metadata": {},
     "output_type": "execute_result"
    }
   ],
   "source": [
    "t1[0:3]"
   ]
  },
  {
   "cell_type": "markdown",
   "id": "0db657fc",
   "metadata": {},
   "source": [
    "`t1.[tab]`-->will give us all the methods available\n",
    "\n",
    "`shift+tab`-->complete docstring/help about the function"
   ]
  },
  {
   "cell_type": "code",
   "execution_count": 42,
   "id": "a4ea1c14",
   "metadata": {},
   "outputs": [
    {
     "data": {
      "text/plain": [
       "(True, 'snehan', (45+7j), 67.67, 67, 56, 5, 4, 3, 2, 1)"
      ]
     },
     "execution_count": 42,
     "metadata": {},
     "output_type": "execute_result"
    }
   ],
   "source": [
    "t1"
   ]
  },
  {
   "cell_type": "code",
   "execution_count": 28,
   "id": "cf691286",
   "metadata": {},
   "outputs": [
    {
     "data": {
      "text/plain": [
       "1"
      ]
     },
     "execution_count": 28,
     "metadata": {},
     "output_type": "execute_result"
    }
   ],
   "source": [
    "t1.count(3)"
   ]
  },
  {
   "cell_type": "code",
   "execution_count": 29,
   "id": "5b169894",
   "metadata": {},
   "outputs": [
    {
     "data": {
      "text/plain": [
       "0"
      ]
     },
     "execution_count": 29,
     "metadata": {},
     "output_type": "execute_result"
    }
   ],
   "source": [
    "t1.count(\"abc\")"
   ]
  },
  {
   "cell_type": "code",
   "execution_count": 30,
   "id": "53ce54f4",
   "metadata": {},
   "outputs": [
    {
     "data": {
      "text/plain": [
       "0"
      ]
     },
     "execution_count": 30,
     "metadata": {},
     "output_type": "execute_result"
    }
   ],
   "source": [
    "t1.index(1)"
   ]
  },
  {
   "cell_type": "markdown",
   "id": "38d0154d",
   "metadata": {},
   "source": [
    "#### theoretically index of 1 should be 8 as it it on the last index(0-8) but it gives the values as 0. why?\n",
    "#### the reason is internally the system is going to store the value of \"True\"as 1 that means True=1 thats why it giving us the index of the first occurence of the value one which is 0"
   ]
  },
  {
   "cell_type": "code",
   "execution_count": 47,
   "id": "e99ac267",
   "metadata": {},
   "outputs": [
    {
     "data": {
      "text/plain": [
       "3"
      ]
     },
     "execution_count": 47,
     "metadata": {},
     "output_type": "execute_result"
    }
   ],
   "source": [
    "t2=(2,3,4,True)\n",
    "t2.index(1)"
   ]
  },
  {
   "cell_type": "code",
   "execution_count": 48,
   "id": "9678e0c9",
   "metadata": {},
   "outputs": [
    {
     "data": {
      "text/plain": [
       "1"
      ]
     },
     "execution_count": 48,
     "metadata": {},
     "output_type": "execute_result"
    }
   ],
   "source": [
    "t1.index('snehan')"
   ]
  },
  {
   "cell_type": "code",
   "execution_count": 44,
   "id": "5b5a9e5a",
   "metadata": {},
   "outputs": [
    {
     "data": {
      "text/plain": [
       "2"
      ]
     },
     "execution_count": 44,
     "metadata": {},
     "output_type": "execute_result"
    }
   ],
   "source": [
    "t1.count(True)\n",
    "#same concept of true as before thats why count showing as 2"
   ]
  },
  {
   "cell_type": "code",
   "execution_count": 45,
   "id": "1980b01f",
   "metadata": {},
   "outputs": [
    {
     "data": {
      "text/plain": [
       "2"
      ]
     },
     "execution_count": 45,
     "metadata": {},
     "output_type": "execute_result"
    }
   ],
   "source": [
    "t1.count(1)"
   ]
  },
  {
   "cell_type": "code",
   "execution_count": 46,
   "id": "bf58e049",
   "metadata": {},
   "outputs": [
    {
     "data": {
      "text/plain": [
       "(True, 'snehan', (45+7j), 67.67, 67, 56, 5, 4, 3, 2, 1)"
      ]
     },
     "execution_count": 46,
     "metadata": {},
     "output_type": "execute_result"
    }
   ],
   "source": [
    "t1"
   ]
  },
  {
   "cell_type": "code",
   "execution_count": 49,
   "id": "e7029194",
   "metadata": {},
   "outputs": [
    {
     "data": {
      "text/plain": [
       "[1, 2, 3, 4]"
      ]
     },
     "execution_count": 49,
     "metadata": {},
     "output_type": "execute_result"
    }
   ],
   "source": [
    "l"
   ]
  },
  {
   "cell_type": "code",
   "execution_count": 50,
   "id": "d0eb4d0b",
   "metadata": {},
   "outputs": [
    {
     "data": {
      "text/plain": [
       "True"
      ]
     },
     "execution_count": 50,
     "metadata": {},
     "output_type": "execute_result"
    }
   ],
   "source": [
    "t1[0]"
   ]
  },
  {
   "cell_type": "code",
   "execution_count": 51,
   "id": "2753762e",
   "metadata": {},
   "outputs": [
    {
     "ename": "TypeError",
     "evalue": "'tuple' object does not support item assignment",
     "output_type": "error",
     "traceback": [
      "\u001b[1;31m---------------------------------------------------------------------------\u001b[0m",
      "\u001b[1;31mTypeError\u001b[0m                                 Traceback (most recent call last)",
      "Cell \u001b[1;32mIn[51], line 1\u001b[0m\n\u001b[1;32m----> 1\u001b[0m t1[\u001b[38;5;241m0\u001b[39m]\u001b[38;5;241m=\u001b[39m \u001b[38;5;241m345\u001b[39m\n",
      "\u001b[1;31mTypeError\u001b[0m: 'tuple' object does not support item assignment"
     ]
    }
   ],
   "source": [
    "t1[0]= 345"
   ]
  },
  {
   "cell_type": "code",
   "execution_count": 52,
   "id": "7c5573e8",
   "metadata": {},
   "outputs": [],
   "source": [
    "l[0]= 100"
   ]
  },
  {
   "cell_type": "code",
   "execution_count": 53,
   "id": "7c4c92cd",
   "metadata": {},
   "outputs": [
    {
     "data": {
      "text/plain": [
       "[100, 2, 3, 4]"
      ]
     },
     "execution_count": 53,
     "metadata": {},
     "output_type": "execute_result"
    }
   ],
   "source": [
    "l"
   ]
  },
  {
   "cell_type": "markdown",
   "id": "21ae09e0",
   "metadata": {},
   "source": [
    "tuples is not allowing us to make any kind of change to a particular index\n",
    "\n",
    "item assignment is different \n",
    "\n",
    "tuple is immutable entity"
   ]
  },
  {
   "cell_type": "code",
   "execution_count": 60,
   "id": "3b20e410",
   "metadata": {},
   "outputs": [
    {
     "name": "stdout",
     "output_type": "stream",
     "text": [
      "True\n",
      "<class 'bool'>\n",
      "snehan\n",
      "<class 'str'>\n",
      "(45+7j)\n",
      "<class 'complex'>\n",
      "67.67\n",
      "<class 'float'>\n",
      "67\n",
      "<class 'int'>\n",
      "56\n",
      "<class 'int'>\n",
      "5\n",
      "<class 'int'>\n",
      "4\n",
      "<class 'int'>\n",
      "3\n",
      "<class 'int'>\n",
      "2\n",
      "<class 'int'>\n",
      "1\n",
      "<class 'int'>\n"
     ]
    }
   ],
   "source": [
    "for i in t1 :\n",
    "    print(i)\n",
    "    print(type(i))"
   ]
  },
  {
   "cell_type": "code",
   "execution_count": 61,
   "id": "6758d12e",
   "metadata": {},
   "outputs": [],
   "source": [
    "t3=(1,2,3,4,5)"
   ]
  },
  {
   "cell_type": "code",
   "execution_count": 62,
   "id": "f829b7e7",
   "metadata": {},
   "outputs": [
    {
     "data": {
      "text/plain": [
       "(1, 2, 3, 4, 5)"
      ]
     },
     "execution_count": 62,
     "metadata": {},
     "output_type": "execute_result"
    }
   ],
   "source": [
    "t3"
   ]
  },
  {
   "cell_type": "code",
   "execution_count": 63,
   "id": "dcec3cfc",
   "metadata": {},
   "outputs": [
    {
     "data": {
      "text/plain": [
       "(1, 2, 3, 4, 5, 1, 2, 3, 4, 5, 1, 2, 3, 4, 5)"
      ]
     },
     "execution_count": 63,
     "metadata": {},
     "output_type": "execute_result"
    }
   ],
   "source": [
    "t3*3"
   ]
  },
  {
   "cell_type": "code",
   "execution_count": 64,
   "id": "0ddd5741",
   "metadata": {},
   "outputs": [
    {
     "data": {
      "text/plain": [
       "5"
      ]
     },
     "execution_count": 64,
     "metadata": {},
     "output_type": "execute_result"
    }
   ],
   "source": [
    "max(t3)"
   ]
  },
  {
   "cell_type": "code",
   "execution_count": 65,
   "id": "0597dddb",
   "metadata": {},
   "outputs": [
    {
     "data": {
      "text/plain": [
       "1"
      ]
     },
     "execution_count": 65,
     "metadata": {},
     "output_type": "execute_result"
    }
   ],
   "source": [
    "min(t3)"
   ]
  },
  {
   "cell_type": "code",
   "execution_count": 67,
   "id": "a8aaa207",
   "metadata": {},
   "outputs": [],
   "source": [
    "t1=(1,23,32,3)\n",
    "t2=(4,5,6,7)"
   ]
  },
  {
   "cell_type": "code",
   "execution_count": 68,
   "id": "386b694b",
   "metadata": {},
   "outputs": [],
   "source": [
    "t3=(t1,t2)"
   ]
  },
  {
   "cell_type": "code",
   "execution_count": 69,
   "id": "9fd37425",
   "metadata": {},
   "outputs": [
    {
     "data": {
      "text/plain": [
       "((1, 23, 32, 3), (4, 5, 6, 7))"
      ]
     },
     "execution_count": 69,
     "metadata": {},
     "output_type": "execute_result"
    }
   ],
   "source": [
    "t3"
   ]
  },
  {
   "cell_type": "code",
   "execution_count": 72,
   "id": "03fa2de5",
   "metadata": {},
   "outputs": [
    {
     "data": {
      "text/plain": [
       "[1, 23, 32, 3, 4, 5, 6, 7]"
      ]
     },
     "execution_count": 72,
     "metadata": {},
     "output_type": "execute_result"
    }
   ],
   "source": [
    "[j for i in t3 for j in i]#flattening out"
   ]
  },
  {
   "cell_type": "code",
   "execution_count": 74,
   "id": "52a16f2d",
   "metadata": {},
   "outputs": [],
   "source": [
    "t4=((91,2,3,4,5,6),[2,3,4,5,8,99])"
   ]
  },
  {
   "cell_type": "code",
   "execution_count": 75,
   "id": "f21ced96",
   "metadata": {},
   "outputs": [
    {
     "data": {
      "text/plain": [
       "((91, 2, 3, 4, 5, 6), [2, 3, 4, 5, 8, 99])"
      ]
     },
     "execution_count": 75,
     "metadata": {},
     "output_type": "execute_result"
    }
   ],
   "source": [
    "t4"
   ]
  },
  {
   "cell_type": "code",
   "execution_count": 76,
   "id": "d027d763",
   "metadata": {},
   "outputs": [],
   "source": [
    "del t4"
   ]
  },
  {
   "cell_type": "code",
   "execution_count": 78,
   "id": "8214e653",
   "metadata": {},
   "outputs": [
    {
     "ename": "NameError",
     "evalue": "name 't4' is not defined",
     "output_type": "error",
     "traceback": [
      "\u001b[1;31m---------------------------------------------------------------------------\u001b[0m",
      "\u001b[1;31mNameError\u001b[0m                                 Traceback (most recent call last)",
      "Cell \u001b[1;32mIn[78], line 1\u001b[0m\n\u001b[1;32m----> 1\u001b[0m \u001b[43mt4\u001b[49m\n",
      "\u001b[1;31mNameError\u001b[0m: name 't4' is not defined"
     ]
    }
   ],
   "source": [
    "t4"
   ]
  },
  {
   "cell_type": "code",
   "execution_count": 79,
   "id": "a73b3309",
   "metadata": {},
   "outputs": [
    {
     "data": {
      "text/plain": [
       "(1, 23, 32, 3)"
      ]
     },
     "execution_count": 79,
     "metadata": {},
     "output_type": "execute_result"
    }
   ],
   "source": [
    "t1"
   ]
  },
  {
   "cell_type": "code",
   "execution_count": 80,
   "id": "fc105edb",
   "metadata": {},
   "outputs": [
    {
     "data": {
      "text/plain": [
       "4"
      ]
     },
     "execution_count": 80,
     "metadata": {},
     "output_type": "execute_result"
    }
   ],
   "source": [
    "len(t1)"
   ]
  },
  {
   "cell_type": "code",
   "execution_count": 81,
   "id": "8ed211d9",
   "metadata": {},
   "outputs": [
    {
     "data": {
      "text/plain": [
       "(1, 23, 32, 3)"
      ]
     },
     "execution_count": 81,
     "metadata": {},
     "output_type": "execute_result"
    }
   ],
   "source": [
    "t1"
   ]
  },
  {
   "cell_type": "code",
   "execution_count": 82,
   "id": "bf8ecf05",
   "metadata": {},
   "outputs": [
    {
     "data": {
      "text/plain": [
       "False"
      ]
     },
     "execution_count": 82,
     "metadata": {},
     "output_type": "execute_result"
    }
   ],
   "source": [
    "\"snehan\" in t1"
   ]
  },
  {
   "cell_type": "code",
   "execution_count": 83,
   "id": "5037b502",
   "metadata": {},
   "outputs": [
    {
     "data": {
      "text/plain": [
       "True"
      ]
     },
     "execution_count": 83,
     "metadata": {},
     "output_type": "execute_result"
    }
   ],
   "source": [
    "23 in t1"
   ]
  },
  {
   "cell_type": "code",
   "execution_count": null,
   "id": "bd8d4dfd",
   "metadata": {},
   "outputs": [],
   "source": []
  }
 ],
 "metadata": {
  "kernelspec": {
   "display_name": "Python 3 (ipykernel)",
   "language": "python",
   "name": "python3"
  },
  "language_info": {
   "codemirror_mode": {
    "name": "ipython",
    "version": 3
   },
   "file_extension": ".py",
   "mimetype": "text/x-python",
   "name": "python",
   "nbconvert_exporter": "python",
   "pygments_lexer": "ipython3",
   "version": "3.10.9"
  }
 },
 "nbformat": 4,
 "nbformat_minor": 5
}
