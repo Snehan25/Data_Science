{
 "cells": [
  {
   "cell_type": "markdown",
   "id": "4a70c8cc",
   "metadata": {},
   "source": [
    "# Q1 #"
   ]
  },
  {
   "cell_type": "raw",
   "id": "bac6bd4b",
   "metadata": {},
   "source": [
    "Q1. Which keyword is used to create a function? Create a function to return a list of odd numbers in the\n",
    "range of 1 to 25.\n"
   ]
  },
  {
   "cell_type": "code",
   "execution_count": 13,
   "id": "2cd3280b",
   "metadata": {},
   "outputs": [],
   "source": [
    "def odd_num():\n",
    "    l=[]\n",
    "    for i in range(1,26) :\n",
    "        if i%2!=0:\n",
    "            l.append(i)\n",
    "    return l\n"
   ]
  },
  {
   "cell_type": "code",
   "execution_count": 14,
   "id": "f3ddb19d",
   "metadata": {},
   "outputs": [
    {
     "name": "stdout",
     "output_type": "stream",
     "text": [
      "[1, 3, 5, 7, 9, 11, 13, 15, 17, 19, 21, 23, 25]\n"
     ]
    }
   ],
   "source": [
    "print(odd_num())"
   ]
  },
  {
   "cell_type": "markdown",
   "id": "1a0972f1",
   "metadata": {},
   "source": [
    "# Q2 # "
   ]
  },
  {
   "cell_type": "raw",
   "id": "7febab40",
   "metadata": {},
   "source": [
    "Q2. Why *args and **kwargs is used in some functions? Create a function each for *args and **kwargs to\n",
    "demonstrate their use.\n"
   ]
  },
  {
   "cell_type": "markdown",
   "id": "c430fa5c",
   "metadata": {},
   "source": [
    "`*args`-->to create a function which is able to take any no of arguments at run time.\n",
    "\n",
    "`**kwargs`-->to pass n no of arguments as key and value pair inside a function"
   ]
  },
  {
   "cell_type": "code",
   "execution_count": 16,
   "id": "07ebad4e",
   "metadata": {},
   "outputs": [],
   "source": [
    "def test1(*args):\n",
    "    return args\n"
   ]
  },
  {
   "cell_type": "code",
   "execution_count": 17,
   "id": "3f0ef0df",
   "metadata": {},
   "outputs": [
    {
     "data": {
      "text/plain": [
       "(1, 2, 3, 4, 5, 5)"
      ]
     },
     "execution_count": 17,
     "metadata": {},
     "output_type": "execute_result"
    }
   ],
   "source": [
    "test1(1,2,3,4,5,5)"
   ]
  },
  {
   "cell_type": "code",
   "execution_count": 20,
   "id": "c3535abb",
   "metadata": {},
   "outputs": [],
   "source": [
    "def test2(**kwargs):\n",
    "    return kwargs"
   ]
  },
  {
   "cell_type": "code",
   "execution_count": 21,
   "id": "3016da54",
   "metadata": {},
   "outputs": [
    {
     "data": {
      "text/plain": [
       "{'a': 'snehan', 'b': 'sahoo', 'c': '123'}"
      ]
     },
     "execution_count": 21,
     "metadata": {},
     "output_type": "execute_result"
    }
   ],
   "source": [
    "test2(a=\"snehan\",b=\"sahoo\",c=\"123\")"
   ]
  },
  {
   "cell_type": "markdown",
   "id": "4507fcb0",
   "metadata": {},
   "source": [
    "# Q3 # "
   ]
  },
  {
   "cell_type": "raw",
   "id": "37b95452",
   "metadata": {},
   "source": [
    "Q3. What is an iterator in python? Name the method used to initialise the iterator object and the method\n",
    "used for iteration. Use these methods to print the first five elements of the given list [2, 4, 6, 8, 10, 12, 14, 16,18, 20].\n"
   ]
  },
  {
   "cell_type": "markdown",
   "id": "cd839113",
   "metadata": {},
   "source": [
    " In Python, an iterator is an object that implements the iterator protocol, which consists of the `__iter__()` method for initializing the iterator object and the` __next__()` method for iterating over the elements."
   ]
  },
  {
   "cell_type": "code",
   "execution_count": 25,
   "id": "148b937b",
   "metadata": {},
   "outputs": [
    {
     "name": "stdout",
     "output_type": "stream",
     "text": [
      "2\n",
      "4\n",
      "6\n",
      "8\n",
      "10\n"
     ]
    }
   ],
   "source": [
    "numbers = [2, 4, 6, 8, 10, 12, 14, 16, 18, 20]\n",
    "iterator = iter(numbers)\n",
    "\n",
    "for i in range(5):\n",
    "    print(next(iterator))\n"
   ]
  },
  {
   "cell_type": "markdown",
   "id": "0efa6cb3",
   "metadata": {},
   "source": [
    "# Q4 # "
   ]
  },
  {
   "cell_type": "raw",
   "id": "0c4b02cc",
   "metadata": {},
   "source": [
    "Q4. What is a generator function in python? Why yield keyword is used? Give an example of a generator\n",
    "function.\n"
   ]
  },
  {
   "cell_type": "markdown",
   "id": "abb1cceb",
   "metadata": {},
   "source": [
    "A generator function in Python is a special type of function that generates a sequence of values using the `yield` keyword. Unlike normal functions that return a value and terminate, generator functions can yield values one at a time, preserving their internal state between each yield.\n",
    "\n",
    "The `yield` keyword is used in generator functions to return a value and suspend the function's execution temporarily. The function can be resumed from where it left off, allowing for the generation of a sequence of values."
   ]
  },
  {
   "cell_type": "code",
   "execution_count": 26,
   "id": "b1b46ac5",
   "metadata": {},
   "outputs": [],
   "source": [
    "def test_fib(n):\n",
    "    a,b = 0,1\n",
    "    for i in range(n):\n",
    "        yield a #find whatever a value is and give it to me \n",
    "        a,b = b, a+b"
   ]
  },
  {
   "cell_type": "code",
   "execution_count": 27,
   "id": "8599951f",
   "metadata": {},
   "outputs": [
    {
     "name": "stdout",
     "output_type": "stream",
     "text": [
      "0\n",
      "1\n",
      "1\n",
      "2\n",
      "3\n",
      "5\n",
      "8\n",
      "13\n",
      "21\n",
      "34\n"
     ]
    }
   ],
   "source": [
    "for i in test_fib(10):\n",
    "    print(i)"
   ]
  },
  {
   "cell_type": "markdown",
   "id": "1d4b0d9d",
   "metadata": {},
   "source": [
    "# Q5 # "
   ]
  },
  {
   "cell_type": "raw",
   "id": "16e73464",
   "metadata": {},
   "source": [
    "Q5. Create a generator function for prime numbers less than 1000. Use the next() method to print the\n",
    "first 20 prime numbers."
   ]
  },
  {
   "cell_type": "code",
   "execution_count": 28,
   "id": "029abc08",
   "metadata": {},
   "outputs": [
    {
     "name": "stdout",
     "output_type": "stream",
     "text": [
      "2\n",
      "3\n",
      "5\n",
      "7\n",
      "11\n",
      "13\n",
      "17\n",
      "19\n",
      "23\n",
      "29\n",
      "31\n",
      "37\n",
      "41\n",
      "43\n",
      "47\n",
      "53\n",
      "59\n",
      "61\n",
      "67\n",
      "71\n"
     ]
    }
   ],
   "source": [
    "def is_prime(n):\n",
    "    if n < 2:\n",
    "        return False\n",
    "    for i in range(2, int(n**0.5) + 1):\n",
    "        if n % i == 0:\n",
    "            return False\n",
    "    return True\n",
    "\n",
    "def prime_generator():\n",
    "    num = 2\n",
    "    count = 0\n",
    "    while count < 20:\n",
    "        if is_prime(num):\n",
    "            yield num\n",
    "            count += 1\n",
    "        num += 1\n",
    "\n",
    "\n",
    "generator = prime_generator()\n",
    "\n",
    "\n",
    "for _ in range(20):\n",
    "    print(next(generator))\n"
   ]
  },
  {
   "cell_type": "code",
   "execution_count": 29,
   "id": "35ee8c67",
   "metadata": {},
   "outputs": [
    {
     "name": "stdout",
     "output_type": "stream",
     "text": [
      "2\n",
      "3\n",
      "5\n",
      "7\n",
      "11\n",
      "13\n",
      "17\n",
      "19\n",
      "23\n",
      "29\n",
      "31\n",
      "37\n",
      "41\n",
      "43\n",
      "47\n",
      "53\n",
      "59\n",
      "61\n",
      "67\n",
      "71\n"
     ]
    }
   ],
   "source": [
    "def prime_generator():\n",
    "    primes = []\n",
    "    num = 2\n",
    "    while True:\n",
    "        if all(num % prime != 0 for prime in primes):\n",
    "            primes.append(num)\n",
    "            yield num\n",
    "        num += 1\n",
    "\n",
    "# Create a generator object\n",
    "generator = prime_generator()\n",
    "\n",
    "# Print the first 20 prime numbers\n",
    "for _ in range(20):\n",
    "    print(next(generator))\n"
   ]
  },
  {
   "cell_type": "code",
   "execution_count": null,
   "id": "7c60c610",
   "metadata": {},
   "outputs": [],
   "source": []
  },
  {
   "cell_type": "code",
   "execution_count": null,
   "id": "e898062e",
   "metadata": {},
   "outputs": [],
   "source": []
  }
 ],
 "metadata": {
  "kernelspec": {
   "display_name": "Python 3 (ipykernel)",
   "language": "python",
   "name": "python3"
  },
  "language_info": {
   "codemirror_mode": {
    "name": "ipython",
    "version": 3
   },
   "file_extension": ".py",
   "mimetype": "text/x-python",
   "name": "python",
   "nbconvert_exporter": "python",
   "pygments_lexer": "ipython3",
   "version": "3.10.9"
  }
 },
 "nbformat": 4,
 "nbformat_minor": 5
}
