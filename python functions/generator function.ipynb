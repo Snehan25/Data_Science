{
 "cells": [
  {
   "cell_type": "code",
   "execution_count": 3,
   "id": "ca98ce98",
   "metadata": {},
   "outputs": [
    {
     "data": {
      "text/plain": [
       "range(1, 10)"
      ]
     },
     "execution_count": 3,
     "metadata": {},
     "output_type": "execute_result"
    }
   ],
   "source": [
    "range(1,10)\n",
    "\n"
   ]
  },
  {
   "cell_type": "code",
   "execution_count": 4,
   "id": "1e0f52c6",
   "metadata": {},
   "outputs": [
    {
     "name": "stdout",
     "output_type": "stream",
     "text": [
      "1\n",
      "2\n",
      "3\n",
      "4\n",
      "5\n",
      "6\n",
      "7\n",
      "8\n",
      "9\n"
     ]
    }
   ],
   "source": [
    "for i in range(1,10):\n",
    "    print(i)"
   ]
  },
  {
   "cell_type": "code",
   "execution_count": 5,
   "id": "2a7dea5d",
   "metadata": {},
   "outputs": [],
   "source": [
    "l=[1,2,3,3,4,5,6,7,8,\"snehan\",\"sahoo\"]"
   ]
  },
  {
   "cell_type": "code",
   "execution_count": 8,
   "id": "3b227d33",
   "metadata": {},
   "outputs": [],
   "source": [
    "def test1(a):\n",
    "    n=[]\n",
    "    for i in a:\n",
    "        if type(i)==int:\n",
    "            n.append(i)\n",
    "    return n"
   ]
  },
  {
   "cell_type": "code",
   "execution_count": 10,
   "id": "8d7d2608",
   "metadata": {},
   "outputs": [
    {
     "data": {
      "text/plain": [
       "[1, 2, 3, 3, 4, 5, 6, 7, 8]"
      ]
     },
     "execution_count": 10,
     "metadata": {},
     "output_type": "execute_result"
    }
   ],
   "source": [
    "test1(l)"
   ]
  },
  {
   "cell_type": "markdown",
   "id": "3a824a17",
   "metadata": {},
   "source": [
    "lets suppose we have a million of elements in this **n** so this function will take an infinite amount of time to give an outcome \n",
    "\n",
    "or\n",
    "\n",
    "as number of elements inside a list is going to increase this func is going to take more and more amount of time as it is preparing the final list final one single list as an outcome to display as output and it will never terminate itself until it has prepared the whole list\n",
    "\n",
    "this kind of functions create bottlenecks where it will prepare the whole data and give it to you\n",
    "so what is the alternative?\n",
    "\n",
    "maybe a range kind of function which is not giving data whole together its giving data one by one when we are trying to iterate over it so it will keep on generating a element(1 then 2 then 3.....) so it is not holding all the data into a memory just like this function at once and then giving the output\n",
    "so it is not trying to remember the whole set of data it is only trying to remember the last one. that what it has generated last time and based on that what it has to generate next. so it will not block your entire memeory even if it has to generate millions or trillions of record."
   ]
  },
  {
   "cell_type": "code",
   "execution_count": 29,
   "id": "bd3c0fe4",
   "metadata": {},
   "outputs": [
    {
     "name": "stdout",
     "output_type": "stream",
     "text": [
      "  \n"
     ]
    }
   ],
   "source": [
    "#we can use the keyword 'yield' to create generator functions\n",
    "def test_fib(n):\n",
    "    a,b = 0,1\n",
    "    for i in range(n):\n",
    "        yield a #find whatever a value is and give it to me \n",
    "        a,b = b, a+b # a = b and b = a+b\n",
    "\"\"\"\n",
    "a = 0   b = 1 from above sentence below def one\n",
    "yield a output : 0\n",
    "a,b = b, a+b starts\n",
    "a = 1  b = 1\n",
    "yield a output : 1\n",
    "a = 1  b = 2\n",
    "yield a output : 1\n",
    "a = 2  b = 3\n",
    "yield a output : 2\n",
    "a = 3  b = 5\n",
    "yield a output : 3\n",
    "a = 5  b = 8\n",
    "yield a output : 5\n",
    ":\n",
    ":\n",
    ":\n",
    "\n",
    "\"\"\"\n",
    "print(\"  \")"
   ]
  },
  {
   "cell_type": "code",
   "execution_count": 30,
   "id": "0106155f",
   "metadata": {},
   "outputs": [
    {
     "data": {
      "text/plain": [
       "<generator object test_fib at 0x0000014FD1939E70>"
      ]
     },
     "execution_count": 30,
     "metadata": {},
     "output_type": "execute_result"
    }
   ],
   "source": [
    "test_fib(10)"
   ]
  },
  {
   "cell_type": "code",
   "execution_count": 31,
   "id": "f9f5774e",
   "metadata": {},
   "outputs": [
    {
     "name": "stdout",
     "output_type": "stream",
     "text": [
      "0\n",
      "1\n",
      "1\n",
      "2\n",
      "3\n",
      "5\n",
      "8\n",
      "13\n",
      "21\n",
      "34\n"
     ]
    }
   ],
   "source": [
    "for i in test_fib(10):\n",
    "    print(i)"
   ]
  },
  {
   "cell_type": "code",
   "execution_count": null,
   "id": "775d77f9",
   "metadata": {},
   "outputs": [],
   "source": []
  }
 ],
 "metadata": {
  "kernelspec": {
   "display_name": "Python 3 (ipykernel)",
   "language": "python",
   "name": "python3"
  },
  "language_info": {
   "codemirror_mode": {
    "name": "ipython",
    "version": 3
   },
   "file_extension": ".py",
   "mimetype": "text/x-python",
   "name": "python",
   "nbconvert_exporter": "python",
   "pygments_lexer": "ipython3",
   "version": "3.10.9"
  }
 },
 "nbformat": 4,
 "nbformat_minor": 5
}
