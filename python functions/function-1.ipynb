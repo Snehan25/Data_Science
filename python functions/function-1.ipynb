{
 "cells": [
  {
   "cell_type": "code",
   "execution_count": 1,
   "id": "ca85f8e9",
   "metadata": {},
   "outputs": [
    {
     "name": "stdout",
     "output_type": "stream",
     "text": [
      "this is my program\n"
     ]
    }
   ],
   "source": [
    "print(\"this is my program\")"
   ]
  },
  {
   "cell_type": "code",
   "execution_count": 2,
   "id": "5398ac6d",
   "metadata": {},
   "outputs": [],
   "source": [
    "l=[1,2,3,4,5]"
   ]
  },
  {
   "cell_type": "code",
   "execution_count": 3,
   "id": "852b99ab",
   "metadata": {},
   "outputs": [
    {
     "data": {
      "text/plain": [
       "5"
      ]
     },
     "execution_count": 3,
     "metadata": {},
     "output_type": "execute_result"
    }
   ],
   "source": [
    "len(l) #inbuilt function\n",
    "#now let's create our own function"
   ]
  },
  {
   "cell_type": "code",
   "execution_count": 5,
   "id": "d3a55072",
   "metadata": {},
   "outputs": [],
   "source": [
    "def test():\n",
    "    pass"
   ]
  },
  {
   "cell_type": "code",
   "execution_count": 17,
   "id": "5ed87ccd",
   "metadata": {},
   "outputs": [],
   "source": [
    "def test1():\n",
    "    print(\"this is my very first function\")"
   ]
  },
  {
   "cell_type": "code",
   "execution_count": 8,
   "id": "d6496da8",
   "metadata": {},
   "outputs": [
    {
     "name": "stdout",
     "output_type": "stream",
     "text": [
      "this is my very first function\n"
     ]
    }
   ],
   "source": [
    "test1()"
   ]
  },
  {
   "cell_type": "markdown",
   "id": "86a126f3",
   "metadata": {},
   "source": [
    "functions adv: increases usability\n",
    "               \n",
    "            increases modularity"
   ]
  },
  {
   "cell_type": "code",
   "execution_count": 9,
   "id": "023f125a",
   "metadata": {},
   "outputs": [
    {
     "name": "stdout",
     "output_type": "stream",
     "text": [
      "this is my very first function\n"
     ]
    }
   ],
   "source": [
    "test1()"
   ]
  },
  {
   "cell_type": "code",
   "execution_count": 18,
   "id": "f9ae0bf1",
   "metadata": {},
   "outputs": [
    {
     "name": "stdout",
     "output_type": "stream",
     "text": [
      "this is my very first function\n"
     ]
    },
    {
     "ename": "TypeError",
     "evalue": "unsupported operand type(s) for +: 'NoneType' and 'str'",
     "output_type": "error",
     "traceback": [
      "\u001b[1;31m---------------------------------------------------------------------------\u001b[0m",
      "\u001b[1;31mTypeError\u001b[0m                                 Traceback (most recent call last)",
      "Cell \u001b[1;32mIn[18], line 1\u001b[0m\n\u001b[1;32m----> 1\u001b[0m \u001b[43mtest1\u001b[49m\u001b[43m(\u001b[49m\u001b[43m)\u001b[49m\u001b[43m \u001b[49m\u001b[38;5;241;43m+\u001b[39;49m\u001b[43m \u001b[49m\u001b[38;5;124;43m\"\u001b[39;49m\u001b[38;5;124;43msnehan\u001b[39;49m\u001b[38;5;124;43m\"\u001b[39;49m\n",
      "\u001b[1;31mTypeError\u001b[0m: unsupported operand type(s) for +: 'NoneType' and 'str'"
     ]
    }
   ],
   "source": [
    "test1() + \"snehan\"\n",
    "#print always return a none type by default\n",
    "# concatenation not possible with print"
   ]
  },
  {
   "cell_type": "code",
   "execution_count": 23,
   "id": "94c06034",
   "metadata": {},
   "outputs": [],
   "source": [
    "def test2():\n",
    "    return \"this is my function with return \""
   ]
  },
  {
   "cell_type": "code",
   "execution_count": 24,
   "id": "92040eb6",
   "metadata": {},
   "outputs": [
    {
     "data": {
      "text/plain": [
       "'this is my function with return '"
      ]
     },
     "execution_count": 24,
     "metadata": {},
     "output_type": "execute_result"
    }
   ],
   "source": [
    "test2()"
   ]
  },
  {
   "cell_type": "code",
   "execution_count": 25,
   "id": "449dc7c0",
   "metadata": {},
   "outputs": [
    {
     "data": {
      "text/plain": [
       "'this is my function with return snehan'"
      ]
     },
     "execution_count": 25,
     "metadata": {},
     "output_type": "execute_result"
    }
   ],
   "source": [
    "test2() + \"snehan\"\n",
    "# concatenation possible with return"
   ]
  },
  {
   "cell_type": "code",
   "execution_count": 26,
   "id": "b117e823",
   "metadata": {},
   "outputs": [],
   "source": [
    "def test3():\n",
    "    return 1, 4, \"snehan\", 34.56\n",
    "#able to return multiple data type at a time"
   ]
  },
  {
   "cell_type": "code",
   "execution_count": 27,
   "id": "1d2ad891",
   "metadata": {},
   "outputs": [
    {
     "data": {
      "text/plain": [
       "(1, 4, 'snehan', 34.56)"
      ]
     },
     "execution_count": 27,
     "metadata": {},
     "output_type": "execute_result"
    }
   ],
   "source": [
    "test3()"
   ]
  },
  {
   "cell_type": "code",
   "execution_count": 28,
   "id": "86614bf0",
   "metadata": {},
   "outputs": [],
   "source": [
    "a = 1,2,3,4,5"
   ]
  },
  {
   "cell_type": "code",
   "execution_count": 29,
   "id": "b816b3d0",
   "metadata": {},
   "outputs": [
    {
     "data": {
      "text/plain": [
       "(1, 2, 3, 4, 5)"
      ]
     },
     "execution_count": 29,
     "metadata": {},
     "output_type": "execute_result"
    }
   ],
   "source": [
    "a"
   ]
  },
  {
   "cell_type": "code",
   "execution_count": 30,
   "id": "1234da60",
   "metadata": {},
   "outputs": [],
   "source": [
    "a,b,c,d = 1,2,34.56, True"
   ]
  },
  {
   "cell_type": "code",
   "execution_count": 31,
   "id": "2476c4d2",
   "metadata": {},
   "outputs": [
    {
     "data": {
      "text/plain": [
       "1"
      ]
     },
     "execution_count": 31,
     "metadata": {},
     "output_type": "execute_result"
    }
   ],
   "source": [
    "a"
   ]
  },
  {
   "cell_type": "code",
   "execution_count": 32,
   "id": "aca261a0",
   "metadata": {},
   "outputs": [
    {
     "data": {
      "text/plain": [
       "2"
      ]
     },
     "execution_count": 32,
     "metadata": {},
     "output_type": "execute_result"
    }
   ],
   "source": [
    "b"
   ]
  },
  {
   "cell_type": "code",
   "execution_count": 33,
   "id": "f471a10e",
   "metadata": {},
   "outputs": [
    {
     "data": {
      "text/plain": [
       "34.56"
      ]
     },
     "execution_count": 33,
     "metadata": {},
     "output_type": "execute_result"
    }
   ],
   "source": [
    "c"
   ]
  },
  {
   "cell_type": "code",
   "execution_count": 34,
   "id": "81f953e3",
   "metadata": {},
   "outputs": [
    {
     "data": {
      "text/plain": [
       "True"
      ]
     },
     "execution_count": 34,
     "metadata": {},
     "output_type": "execute_result"
    }
   ],
   "source": [
    "d"
   ]
  },
  {
   "cell_type": "code",
   "execution_count": 35,
   "id": "60ca1874",
   "metadata": {},
   "outputs": [
    {
     "data": {
      "text/plain": [
       "(1, 4, 'snehan', 34.56)"
      ]
     },
     "execution_count": 35,
     "metadata": {},
     "output_type": "execute_result"
    }
   ],
   "source": [
    "test3()\n",
    "#will always return in form of tuple"
   ]
  },
  {
   "cell_type": "code",
   "execution_count": 37,
   "id": "fe302f5b",
   "metadata": {},
   "outputs": [
    {
     "data": {
      "text/plain": [
       "4"
      ]
     },
     "execution_count": 37,
     "metadata": {},
     "output_type": "execute_result"
    }
   ],
   "source": [
    "test3()[1]"
   ]
  },
  {
   "cell_type": "code",
   "execution_count": 38,
   "id": "49e5ce25",
   "metadata": {},
   "outputs": [
    {
     "data": {
      "text/plain": [
       "1"
      ]
     },
     "execution_count": 38,
     "metadata": {},
     "output_type": "execute_result"
    }
   ],
   "source": [
    "test3()[0]"
   ]
  },
  {
   "cell_type": "code",
   "execution_count": 39,
   "id": "ee1bbc0e",
   "metadata": {},
   "outputs": [
    {
     "data": {
      "text/plain": [
       "'snehan'"
      ]
     },
     "execution_count": 39,
     "metadata": {},
     "output_type": "execute_result"
    }
   ],
   "source": [
    "test3()[2]"
   ]
  },
  {
   "cell_type": "code",
   "execution_count": 40,
   "id": "23b56ca3",
   "metadata": {},
   "outputs": [],
   "source": [
    "a,b,c,d=test3()"
   ]
  },
  {
   "cell_type": "code",
   "execution_count": 41,
   "id": "38b1150c",
   "metadata": {},
   "outputs": [
    {
     "data": {
      "text/plain": [
       "1"
      ]
     },
     "execution_count": 41,
     "metadata": {},
     "output_type": "execute_result"
    }
   ],
   "source": [
    "a"
   ]
  },
  {
   "cell_type": "code",
   "execution_count": 42,
   "id": "e38c6bff",
   "metadata": {},
   "outputs": [
    {
     "data": {
      "text/plain": [
       "4"
      ]
     },
     "execution_count": 42,
     "metadata": {},
     "output_type": "execute_result"
    }
   ],
   "source": [
    "b"
   ]
  },
  {
   "cell_type": "code",
   "execution_count": 43,
   "id": "a28b0e42",
   "metadata": {},
   "outputs": [
    {
     "data": {
      "text/plain": [
       "'snehan'"
      ]
     },
     "execution_count": 43,
     "metadata": {},
     "output_type": "execute_result"
    }
   ],
   "source": [
    "c\n"
   ]
  },
  {
   "cell_type": "code",
   "execution_count": 44,
   "id": "74200806",
   "metadata": {},
   "outputs": [
    {
     "data": {
      "text/plain": [
       "34.56"
      ]
     },
     "execution_count": 44,
     "metadata": {},
     "output_type": "execute_result"
    }
   ],
   "source": [
    "d"
   ]
  },
  {
   "cell_type": "code",
   "execution_count": 45,
   "id": "583518ae",
   "metadata": {},
   "outputs": [],
   "source": [
    "def test4():\n",
    "    a=3*4+5\n",
    "    return a\n",
    "    "
   ]
  },
  {
   "cell_type": "code",
   "execution_count": 46,
   "id": "9d8970a7",
   "metadata": {},
   "outputs": [
    {
     "data": {
      "text/plain": [
       "17"
      ]
     },
     "execution_count": 46,
     "metadata": {},
     "output_type": "execute_result"
    }
   ],
   "source": [
    "test4()"
   ]
  },
  {
   "cell_type": "code",
   "execution_count": 47,
   "id": "a01a521f",
   "metadata": {},
   "outputs": [
    {
     "data": {
      "text/plain": [
       "int"
      ]
     },
     "execution_count": 47,
     "metadata": {},
     "output_type": "execute_result"
    }
   ],
   "source": [
    "type(test4())"
   ]
  },
  {
   "cell_type": "code",
   "execution_count": 48,
   "id": "6152b4f9",
   "metadata": {},
   "outputs": [],
   "source": [
    "def test5(a,b):\n",
    "    c=a+b\n",
    "    return c"
   ]
  },
  {
   "cell_type": "code",
   "execution_count": 51,
   "id": "eb280b38",
   "metadata": {},
   "outputs": [
    {
     "data": {
      "text/plain": [
       "4"
      ]
     },
     "execution_count": 51,
     "metadata": {},
     "output_type": "execute_result"
    }
   ],
   "source": [
    "test5(1,3)"
   ]
  },
  {
   "cell_type": "code",
   "execution_count": 53,
   "id": "f59874fb",
   "metadata": {},
   "outputs": [
    {
     "data": {
      "text/plain": [
       "'snehan sahoo'"
      ]
     },
     "execution_count": 53,
     "metadata": {},
     "output_type": "execute_result"
    }
   ],
   "source": [
    "test5(\"snehan \",\"sahoo\")"
   ]
  },
  {
   "cell_type": "code",
   "execution_count": 54,
   "id": "45cb7609",
   "metadata": {},
   "outputs": [
    {
     "data": {
      "text/plain": [
       "[1, 2, 3, 4, 4, 5, 6, 7, 8]"
      ]
     },
     "execution_count": 54,
     "metadata": {},
     "output_type": "execute_result"
    }
   ],
   "source": [
    "test5([1,2,3,4],[4,5,6,7,8])"
   ]
  },
  {
   "cell_type": "code",
   "execution_count": 55,
   "id": "21417f34",
   "metadata": {},
   "outputs": [
    {
     "data": {
      "text/plain": [
       "'sahoo snehan'"
      ]
     },
     "execution_count": 55,
     "metadata": {},
     "output_type": "execute_result"
    }
   ],
   "source": [
    "test5(b=\"snehan\",a=\"sahoo \")"
   ]
  },
  {
   "cell_type": "code",
   "execution_count": 75,
   "id": "467ba7d5",
   "metadata": {},
   "outputs": [],
   "source": [
    "l=[1,2,3,4,5,\"snehan\",\"sahoo\",[1,2,3,44,55]]"
   ]
  },
  {
   "cell_type": "code",
   "execution_count": 58,
   "id": "605b58a3",
   "metadata": {},
   "outputs": [],
   "source": [
    "# a function which will take list as an input and give me a final list with all the numeric value"
   ]
  },
  {
   "cell_type": "code",
   "execution_count": 72,
   "id": "e8002f7c",
   "metadata": {},
   "outputs": [],
   "source": [
    "def test6(a):\n",
    "    n = []\n",
    "    for i in a:\n",
    "        if type(i)== int or type(i) == float :\n",
    "            n.append(i)\n",
    "    return n\n",
    "    "
   ]
  },
  {
   "cell_type": "code",
   "execution_count": 77,
   "id": "1ae6c494",
   "metadata": {},
   "outputs": [
    {
     "data": {
      "text/plain": [
       "[1, 2, 3, 4, 5]"
      ]
     },
     "execution_count": 77,
     "metadata": {},
     "output_type": "execute_result"
    }
   ],
   "source": [
    "test6(l)"
   ]
  },
  {
   "cell_type": "code",
   "execution_count": 76,
   "id": "316307bd",
   "metadata": {},
   "outputs": [
    {
     "data": {
      "text/plain": [
       "[1, 2, 3, 4, 5, 'snehan', 'sahoo', [1, 2, 3, 44, 55]]"
      ]
     },
     "execution_count": 76,
     "metadata": {},
     "output_type": "execute_result"
    }
   ],
   "source": [
    "l"
   ]
  },
  {
   "cell_type": "code",
   "execution_count": 80,
   "id": "3ead1298",
   "metadata": {},
   "outputs": [],
   "source": [
    "def test7(a):\n",
    "    n = []\n",
    "    for i in a:\n",
    "        if type(i)== list:\n",
    "            for j in i :\n",
    "                if type(j)== int or type(j)== float :\n",
    "                    n.append(j)\n",
    "        else:\n",
    "            if type(i)== int or type(i) == float :\n",
    "                n.append(i)\n",
    "    return n\n",
    "    "
   ]
  },
  {
   "cell_type": "code",
   "execution_count": 81,
   "id": "3bea26c8",
   "metadata": {},
   "outputs": [
    {
     "data": {
      "text/plain": [
       "[1, 2, 3, 4, 5, 1, 2, 3, 44, 55]"
      ]
     },
     "execution_count": 81,
     "metadata": {},
     "output_type": "execute_result"
    }
   ],
   "source": [
    "test7(l)"
   ]
  },
  {
   "cell_type": "code",
   "execution_count": 82,
   "id": "966eccea",
   "metadata": {},
   "outputs": [
    {
     "data": {
      "text/plain": [
       "[1, 2, 3, 4, 5, 'snehan', 'sahoo', [1, 2, 3, 44, 55]]"
      ]
     },
     "execution_count": 82,
     "metadata": {},
     "output_type": "execute_result"
    }
   ],
   "source": [
    "l"
   ]
  },
  {
   "cell_type": "code",
   "execution_count": null,
   "id": "a945c59e",
   "metadata": {},
   "outputs": [],
   "source": []
  }
 ],
 "metadata": {
  "kernelspec": {
   "display_name": "Python 3 (ipykernel)",
   "language": "python",
   "name": "python3"
  },
  "language_info": {
   "codemirror_mode": {
    "name": "ipython",
    "version": 3
   },
   "file_extension": ".py",
   "mimetype": "text/x-python",
   "name": "python",
   "nbconvert_exporter": "python",
   "pygments_lexer": "ipython3",
   "version": "3.10.9"
  }
 },
 "nbformat": 4,
 "nbformat_minor": 5
}
