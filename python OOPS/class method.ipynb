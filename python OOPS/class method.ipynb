{
 "cells": [
  {
   "cell_type": "code",
   "execution_count": 2,
   "id": "4e8b2b82",
   "metadata": {},
   "outputs": [],
   "source": [
    "class school:\n",
    "    def __init__(self,name,email):\n",
    "        self.name=name #instance variables, associated to an instance or an object\n",
    "        self.email=email\n",
    "        \n",
    "    def student_details(self):\n",
    "        print(self.name, self.email)"
   ]
  },
  {
   "cell_type": "code",
   "execution_count": 3,
   "id": "476dc5d0",
   "metadata": {},
   "outputs": [],
   "source": [
    "pw = school(\"snehan\",\"snehansahoo123@gmail.com\")"
   ]
  },
  {
   "cell_type": "code",
   "execution_count": 4,
   "id": "cba3a4e6",
   "metadata": {},
   "outputs": [
    {
     "data": {
      "text/plain": [
       "'snehan'"
      ]
     },
     "execution_count": 4,
     "metadata": {},
     "output_type": "execute_result"
    }
   ],
   "source": [
    "pw.name"
   ]
  },
  {
   "cell_type": "code",
   "execution_count": 5,
   "id": "50214b87",
   "metadata": {},
   "outputs": [
    {
     "data": {
      "text/plain": [
       "'snehansahoo123@gmail.com'"
      ]
     },
     "execution_count": 5,
     "metadata": {},
     "output_type": "execute_result"
    }
   ],
   "source": [
    "pw.email"
   ]
  },
  {
   "cell_type": "code",
   "execution_count": 7,
   "id": "72545e67",
   "metadata": {},
   "outputs": [
    {
     "name": "stdout",
     "output_type": "stream",
     "text": [
      "snehan snehansahoo123@gmail.com\n"
     ]
    }
   ],
   "source": [
    "pw.student_details()"
   ]
  },
  {
   "cell_type": "markdown",
   "id": "01058bf7",
   "metadata": {},
   "source": [
    "alternative?"
   ]
  },
  {
   "cell_type": "code",
   "execution_count": 8,
   "id": "c00a92ed",
   "metadata": {},
   "outputs": [],
   "source": [
    "class school1:\n",
    "    def __init__(self,name,email):\n",
    "        self.name=name\n",
    "        self.email=email\n",
    "    \n",
    "    @classmethod    \n",
    "    def details(cls, name, email):\n",
    "        return cls(name,email)\n",
    "    #internally it assigns the data to the init \n",
    "    ''' here, we are able to achieve function \n",
    "    overloading which is directly not possible'''\n",
    "    # overload the init method with this class method\n",
    "    \n",
    "    def student_details(self):\n",
    "        print(self.name, self.email)"
   ]
  },
  {
   "cell_type": "code",
   "execution_count": 10,
   "id": "9bb7287a",
   "metadata": {},
   "outputs": [],
   "source": [
    "pw1=school1.details(\"snehan\",\"snehansahoo123@gmail.com\")"
   ]
  },
  {
   "cell_type": "code",
   "execution_count": 11,
   "id": "6eaf0e89",
   "metadata": {},
   "outputs": [
    {
     "data": {
      "text/plain": [
       "'snehan'"
      ]
     },
     "execution_count": 11,
     "metadata": {},
     "output_type": "execute_result"
    }
   ],
   "source": [
    "pw1.name"
   ]
  },
  {
   "cell_type": "code",
   "execution_count": 12,
   "id": "cf544acb",
   "metadata": {},
   "outputs": [
    {
     "data": {
      "text/plain": [
       "'snehansahoo123@gmail.com'"
      ]
     },
     "execution_count": 12,
     "metadata": {},
     "output_type": "execute_result"
    }
   ],
   "source": [
    "pw1.email"
   ]
  },
  {
   "cell_type": "code",
   "execution_count": 13,
   "id": "d74f2ffd",
   "metadata": {},
   "outputs": [
    {
     "name": "stdout",
     "output_type": "stream",
     "text": [
      "snehan snehansahoo123@gmail.com\n"
     ]
    }
   ],
   "source": [
    "pw1.student_details()"
   ]
  },
  {
   "cell_type": "code",
   "execution_count": 28,
   "id": "57954ab5",
   "metadata": {},
   "outputs": [],
   "source": [
    "class school2:\n",
    "    \n",
    "    mobile_number = 1234567890\n",
    "    \n",
    "    def __init__(self,name,email):\n",
    "        self.name=name\n",
    "        self.email=email\n",
    "    \n",
    "    @classmethod    \n",
    "    def details(cls, name, email):\n",
    "        return cls(name,email)\n",
    "    \n",
    "    \n",
    "    def student_details(self):       #classname.\n",
    "        print(self.name, self.email, school2.mobile_number)\n",
    "                                     #able to access class variable inside instance method"
   ]
  },
  {
   "cell_type": "code",
   "execution_count": 29,
   "id": "57a4fcf0",
   "metadata": {},
   "outputs": [
    {
     "data": {
      "text/plain": [
       "1234567890"
      ]
     },
     "execution_count": 29,
     "metadata": {},
     "output_type": "execute_result"
    }
   ],
   "source": [
    "school2.mobile_number"
   ]
  },
  {
   "cell_type": "code",
   "execution_count": 30,
   "id": "1e736b16",
   "metadata": {},
   "outputs": [],
   "source": [
    "pw2 = school2.details(\"snehan\",\"email@gmial.com\")"
   ]
  },
  {
   "cell_type": "code",
   "execution_count": null,
   "id": "684cbcc3",
   "metadata": {},
   "outputs": [],
   "source": []
  },
  {
   "cell_type": "code",
   "execution_count": 31,
   "id": "9bca33ef",
   "metadata": {},
   "outputs": [
    {
     "name": "stdout",
     "output_type": "stream",
     "text": [
      "snehan email@gmial.com 1234567890\n"
     ]
    }
   ],
   "source": [
    "pw2.student_details()"
   ]
  },
  {
   "cell_type": "code",
   "execution_count": null,
   "id": "5e53ffaa",
   "metadata": {},
   "outputs": [],
   "source": []
  },
  {
   "cell_type": "code",
   "execution_count": 32,
   "id": "17f84aaa",
   "metadata": {},
   "outputs": [],
   "source": [
    "pw2_obj = school2(\"rohan\",\"rohan@gmail.com\")"
   ]
  },
  {
   "cell_type": "code",
   "execution_count": 33,
   "id": "27c7dbd7",
   "metadata": {},
   "outputs": [
    {
     "name": "stdout",
     "output_type": "stream",
     "text": [
      "rohan rohan@gmail.com 1234567890\n"
     ]
    }
   ],
   "source": [
    "pw2_obj.student_details()"
   ]
  },
  {
   "cell_type": "markdown",
   "id": "0870366e",
   "metadata": {},
   "source": [
    "we are able to access student detail in two way:\n",
    "1) by creating an object\n",
    "2) by calling a variable of our class method"
   ]
  },
  {
   "cell_type": "code",
   "execution_count": 2,
   "id": "c3f15e73",
   "metadata": {},
   "outputs": [],
   "source": [
    "class school2:\n",
    "    \n",
    "    mobile_number = 1234567890\n",
    "    \n",
    "    def __init__(self,name,email):\n",
    "        self.name=name\n",
    "        self.email=email\n",
    "    \n",
    "    @classmethod      # cls meaning binding to a class\n",
    "    def change_number(cls, mobile):\n",
    "        school2.mobile_number = mobile\n",
    "    \n",
    "    @classmethod    \n",
    "    def details(cls, name, email):\n",
    "        return cls(name,email)\n",
    "    \n",
    "    \n",
    "    def student_details(self):      \n",
    "        print(self.name, self.email, school2.mobile_number)"
   ]
  },
  {
   "cell_type": "code",
   "execution_count": 3,
   "id": "bd9250cd",
   "metadata": {},
   "outputs": [
    {
     "data": {
      "text/plain": [
       "1234567890"
      ]
     },
     "execution_count": 3,
     "metadata": {},
     "output_type": "execute_result"
    }
   ],
   "source": [
    "school2.mobile_number"
   ]
  },
  {
   "cell_type": "code",
   "execution_count": 4,
   "id": "9ab20aff",
   "metadata": {},
   "outputs": [],
   "source": [
    "school2.change_number(87884758)"
   ]
  },
  {
   "cell_type": "code",
   "execution_count": 5,
   "id": "8f73a645",
   "metadata": {},
   "outputs": [
    {
     "data": {
      "text/plain": [
       "87884758"
      ]
     },
     "execution_count": 5,
     "metadata": {},
     "output_type": "execute_result"
    }
   ],
   "source": [
    "school2.mobile_number"
   ]
  },
  {
   "cell_type": "code",
   "execution_count": 6,
   "id": "b901bead",
   "metadata": {},
   "outputs": [],
   "source": [
    "pw2_obj = school2(\"sohail\", \"sohail@gmail.com\")"
   ]
  },
  {
   "cell_type": "code",
   "execution_count": 7,
   "id": "a11b9e2b",
   "metadata": {},
   "outputs": [
    {
     "data": {
      "text/plain": [
       "<__main__.school2 at 0x291ad950a30>"
      ]
     },
     "execution_count": 7,
     "metadata": {},
     "output_type": "execute_result"
    }
   ],
   "source": [
    "pw2_obj.details(\"sudh\",\"sudh@gmail.com\")"
   ]
  },
  {
   "cell_type": "code",
   "execution_count": 8,
   "id": "11150c3b",
   "metadata": {},
   "outputs": [
    {
     "data": {
      "text/plain": [
       "'sohail'"
      ]
     },
     "execution_count": 8,
     "metadata": {},
     "output_type": "execute_result"
    }
   ],
   "source": [
    "pw2_obj.name #showing previous data set"
   ]
  },
  {
   "cell_type": "markdown",
   "id": "dfa60373",
   "metadata": {},
   "source": [
    "we are able to access details but originally it will show data which was available at the time of object creation "
   ]
  },
  {
   "cell_type": "code",
   "execution_count": 44,
   "id": "abae4301",
   "metadata": {},
   "outputs": [],
   "source": [
    "pw2_obj.change_number(56756785678)"
   ]
  },
  {
   "cell_type": "code",
   "execution_count": 45,
   "id": "ffa648dc",
   "metadata": {},
   "outputs": [
    {
     "data": {
      "text/plain": [
       "56756785678"
      ]
     },
     "execution_count": 45,
     "metadata": {},
     "output_type": "execute_result"
    }
   ],
   "source": [
    "pw2_obj.mobile_number"
   ]
  },
  {
   "cell_type": "markdown",
   "id": "01ddb954",
   "metadata": {},
   "source": [
    "class method is like a global method available/accesible to all of our object\n",
    "\n",
    "instance method is available to each and every object\n",
    "\n",
    "the difference?\n",
    "\n",
    "class method whenever you are trying to create it will always try to create only one instances\n",
    "\n",
    "whereas\n",
    "\n",
    "this instance method will be created as per the no of obj we are going to create"
   ]
  },
  {
   "cell_type": "code",
   "execution_count": 15,
   "id": "915462ce",
   "metadata": {},
   "outputs": [],
   "source": [
    "class school3:\n",
    "    \n",
    "    mobile_number = 1234567890\n",
    "    \n",
    "    def __init__(self,name,email):\n",
    "        self.name=name\n",
    "        self.email=email\n",
    "    \n",
    "    @classmethod      # cls meaning binding to a class\n",
    "    def change_number(cls, mobile):\n",
    "        school3.mobile_number = mobile\n",
    "    \n",
    "    @classmethod    \n",
    "    def details(cls, name, email):\n",
    "        return cls(name,email)\n",
    "    \n",
    "    \n",
    "    def student_details(self):      \n",
    "        print(self.name, self.email, school3.mobile_number)"
   ]
  },
  {
   "cell_type": "code",
   "execution_count": 16,
   "id": "6e7bb510",
   "metadata": {},
   "outputs": [],
   "source": [
    "#external function\n",
    "#how to add external function to our class? \n",
    "def course_details(cls , course_name):\n",
    "    print(\"course details\", course_name)"
   ]
  },
  {
   "cell_type": "code",
   "execution_count": 17,
   "id": "87ca5d9a",
   "metadata": {},
   "outputs": [],
   "source": [
    "school3.course_details = classmethod(course_details)#it will be able to add out function to our class directly"
   ]
  },
  {
   "cell_type": "code",
   "execution_count": 18,
   "id": "f1a78ae6",
   "metadata": {},
   "outputs": [
    {
     "name": "stdout",
     "output_type": "stream",
     "text": [
      "course details data science masters\n"
     ]
    }
   ],
   "source": [
    "school3.course_details(\"data science masters\")"
   ]
  },
  {
   "cell_type": "code",
   "execution_count": 19,
   "id": "ea158e7f",
   "metadata": {},
   "outputs": [],
   "source": [
    "pw3 = school3(\"snehan\",\"abc@gmail.com\")"
   ]
  },
  {
   "cell_type": "code",
   "execution_count": 20,
   "id": "0c5426dc",
   "metadata": {},
   "outputs": [
    {
     "name": "stdout",
     "output_type": "stream",
     "text": [
      "course details web dev\n"
     ]
    }
   ],
   "source": [
    "pw3.course_details(\"web dev\")"
   ]
  },
  {
   "cell_type": "code",
   "execution_count": 21,
   "id": "2f75cd9d",
   "metadata": {},
   "outputs": [],
   "source": [
    "class school4:\n",
    "    \n",
    "    mobile_number = 1234567890\n",
    "    \n",
    "    def __init__(self,name,email):\n",
    "        self.name=name\n",
    "        self.email=email\n",
    "    \n",
    "    @classmethod      # cls meaning binding to a class\n",
    "    def change_number(cls, mobile):\n",
    "        school4.mobile_number = mobile\n",
    "    \n",
    "    @classmethod    \n",
    "    def details(cls, name, email):\n",
    "        return cls(name,email)\n",
    "    \n",
    "    \n",
    "    def student_details(self):      \n",
    "        print(self.name, self.email, school4.mobile_number)"
   ]
  },
  {
   "cell_type": "code",
   "execution_count": 22,
   "id": "31f14614",
   "metadata": {},
   "outputs": [],
   "source": [
    "#deletion\n",
    "del school4.change_number"
   ]
  },
  {
   "cell_type": "code",
   "execution_count": 23,
   "id": "a6184b36",
   "metadata": {},
   "outputs": [
    {
     "ename": "AttributeError",
     "evalue": "type object 'school4' has no attribute 'change_number'",
     "output_type": "error",
     "traceback": [
      "\u001b[1;31m---------------------------------------------------------------------------\u001b[0m",
      "\u001b[1;31mAttributeError\u001b[0m                            Traceback (most recent call last)",
      "Cell \u001b[1;32mIn[23], line 1\u001b[0m\n\u001b[1;32m----> 1\u001b[0m \u001b[43mschool4\u001b[49m\u001b[38;5;241;43m.\u001b[39;49m\u001b[43mchange_number\u001b[49m(\u001b[38;5;241m12344\u001b[39m)\n",
      "\u001b[1;31mAttributeError\u001b[0m: type object 'school4' has no attribute 'change_number'"
     ]
    }
   ],
   "source": [
    "school4.change_number(12344)"
   ]
  },
  {
   "cell_type": "code",
   "execution_count": 24,
   "id": "bae8e749",
   "metadata": {},
   "outputs": [],
   "source": [
    "delattr(school4, \"details\")"
   ]
  },
  {
   "cell_type": "code",
   "execution_count": 25,
   "id": "62b2f79d",
   "metadata": {},
   "outputs": [
    {
     "data": {
      "text/plain": [
       "1234567890"
      ]
     },
     "execution_count": 25,
     "metadata": {},
     "output_type": "execute_result"
    }
   ],
   "source": [
    "school4.mobile_number"
   ]
  },
  {
   "cell_type": "code",
   "execution_count": 26,
   "id": "02b83d54",
   "metadata": {},
   "outputs": [],
   "source": [
    "delattr(school4, \"mobile_number\")"
   ]
  },
  {
   "cell_type": "code",
   "execution_count": 27,
   "id": "cb187eaa",
   "metadata": {},
   "outputs": [
    {
     "ename": "AttributeError",
     "evalue": "type object 'school4' has no attribute 'mobile_number'",
     "output_type": "error",
     "traceback": [
      "\u001b[1;31m---------------------------------------------------------------------------\u001b[0m",
      "\u001b[1;31mAttributeError\u001b[0m                            Traceback (most recent call last)",
      "Cell \u001b[1;32mIn[27], line 1\u001b[0m\n\u001b[1;32m----> 1\u001b[0m \u001b[43mschool4\u001b[49m\u001b[38;5;241;43m.\u001b[39;49m\u001b[43mmobile_number\u001b[49m\n",
      "\u001b[1;31mAttributeError\u001b[0m: type object 'school4' has no attribute 'mobile_number'"
     ]
    }
   ],
   "source": [
    "school4.mobile_number"
   ]
  },
  {
   "cell_type": "code",
   "execution_count": 28,
   "id": "ab9425d1",
   "metadata": {},
   "outputs": [],
   "source": [
    "delattr(school4, \"student_details\")"
   ]
  },
  {
   "cell_type": "code",
   "execution_count": 29,
   "id": "bb9604b8",
   "metadata": {},
   "outputs": [
    {
     "data": {
      "text/plain": [
       "__main__.school4"
      ]
     },
     "execution_count": 29,
     "metadata": {},
     "output_type": "execute_result"
    }
   ],
   "source": [
    "school4"
   ]
  },
  {
   "cell_type": "markdown",
   "id": "a6c4fb73",
   "metadata": {},
   "source": [
    "class method is basically a decorator which will give power to our functions to perform any kind of operations irrespective to a class"
   ]
  }
 ],
 "metadata": {
  "kernelspec": {
   "display_name": "Python 3 (ipykernel)",
   "language": "python",
   "name": "python3"
  },
  "language_info": {
   "codemirror_mode": {
    "name": "ipython",
    "version": 3
   },
   "file_extension": ".py",
   "mimetype": "text/x-python",
   "name": "python",
   "nbconvert_exporter": "python",
   "pygments_lexer": "ipython3",
   "version": "3.10.9"
  }
 },
 "nbformat": 4,
 "nbformat_minor": 5
}
